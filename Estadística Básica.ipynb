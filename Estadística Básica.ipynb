{
 "cells": [
  {
   "cell_type": "markdown",
   "metadata": {},
   "source": [
    "## ***Alumno:*** Kevin Rojas Bohorquez\n",
    "### Ejercicio 1\n",
    "Creamos un vector ***rentprices*** con los datos de la muestra:"
   ]
  },
  {
   "cell_type": "code",
   "execution_count": 4,
   "metadata": {},
   "outputs": [
    {
     "data": {
      "text/html": [
       "<ol class=list-inline>\n",
       "\t<li>7.8</li>\n",
       "\t<li>12.6</li>\n",
       "\t<li>15.96</li>\n",
       "\t<li>13.5</li>\n",
       "\t<li>8.25</li>\n",
       "\t<li>31.29</li>\n",
       "\t<li>16.46</li>\n",
       "</ol>\n"
      ],
      "text/latex": [
       "\\begin{enumerate*}\n",
       "\\item 7.8\n",
       "\\item 12.6\n",
       "\\item 15.96\n",
       "\\item 13.5\n",
       "\\item 8.25\n",
       "\\item 31.29\n",
       "\\item 16.46\n",
       "\\end{enumerate*}\n"
      ],
      "text/markdown": [
       "1. 7.8\n",
       "2. 12.6\n",
       "3. 15.96\n",
       "4. 13.5\n",
       "5. 8.25\n",
       "6. 31.29\n",
       "7. 16.46\n",
       "\n",
       "\n"
      ],
      "text/plain": [
       "[1]  7.80 12.60 15.96 13.50  8.25 31.29 16.46"
      ]
     },
     "metadata": {},
     "output_type": "display_data"
    }
   ],
   "source": [
    "rentprices<-c(7.80, 12.60, 15.96, 13.50, 8.25, 31.29, 16.46)\n",
    "rentprices"
   ]
  },
  {
   "cell_type": "markdown",
   "metadata": {},
   "source": [
    "Ahora ejecutamos las funciones y operaciones que nos ayudaran a obtener los valores solicitados:"
   ]
  },
  {
   "cell_type": "code",
   "execution_count": 17,
   "metadata": {},
   "outputs": [
    {
     "data": {
      "text/plain": [
       "   Min. 1st Qu.  Median    Mean 3rd Qu.    Max. \n",
       "   7.80   10.43   13.50   15.12   16.21   31.29 "
      ]
     },
     "metadata": {},
     "output_type": "display_data"
    },
    {
     "data": {
      "text/html": [
       "7.89223397669235"
      ],
      "text/latex": [
       "7.89223397669235"
      ],
      "text/markdown": [
       "7.89223397669235"
      ],
      "text/plain": [
       "[1] 7.892234"
      ]
     },
     "metadata": {},
     "output_type": "display_data"
    },
    {
     "data": {
      "text/plain": [
       "3rd Qu. \n",
       "  5.785 "
      ]
     },
     "metadata": {},
     "output_type": "display_data"
    }
   ],
   "source": [
    "#Media, Mediana, 1er cuartil y 3er cuartil\n",
    "summary(rentprices)\n",
    "\n",
    "#Desviacion Estandar\n",
    "sd(rentprices)\n",
    "\n",
    "#Rango intercuartilico\n",
    "Q1<-summary(rentprices)[2]\n",
    "Q3<-summary(rentprices)[5]\n",
    "iqr<-Q3-Q1\n",
    "iqr"
   ]
  },
  {
   "cell_type": "markdown",
   "metadata": {},
   "source": [
    "Obtuvimos:\n",
    "- La Media: *15.12*\n",
    "- La Mediana: *13.50*\n",
    "- La desviacion estandar: *7.89223397669235*\n",
    "- el primer cuartil: *10.43*\n",
    "- el tercer cuartil: *16.12*\n",
    "- el rango intercuartilico: *5.785*\n",
    "\n",
    "Y para finalizar dibujamos su boxplot correspondiente:"
   ]
  },
  {
   "cell_type": "code",
   "execution_count": 15,
   "metadata": {},
   "outputs": [
    {
     "data": {
      "image/png": "[encoded data removed]",
      "text/plain": [
       "plot without title"
      ]
     },
     "metadata": {},
     "output_type": "display_data"
    }
   ],
   "source": [
    "boxplot(rentprices,horizontal=T)"
   ]
  },
  {
   "cell_type": "markdown",
   "metadata": {},
   "source": [
    "### Ejercicio 2\n",
    "Es más fiable la muestra aleatoria que la muestra de expertos, porque no está limitado a un pensamiento subjetivo y en una muestra aleatoria se puede dar, pero puede ser marginal a los otros datos obtenidos. Así pudiendo caer en un sesgo que solo tienen los expertos y no poder generalizar."
   ]
  },
  {
   "cell_type": "markdown",
   "metadata": {},
   "source": [
    "### Ejercicio 3\n",
    "La variable aleatoria \"Tiempo que tardo en ir de mi casa al trabajo\" tiene estos factores:\n",
    "> FACTORES SISTEMATICOS\n",
    "- Tiempo de Caminata de la casa al Paradero.\n",
    "- Tiempo de Espera del Bus.\n",
    "- Tiempo del trayecto de Bus.\n",
    "- Tiempo de intercambio de Bus.\n",
    "- Tiempo de Caminata del Paradero al trabajo.\n",
    "- Tiempo estimado del Trafico en hora punta.\n",
    "\n",
    "> FACTORES ALEATORIOS\n",
    "- Accidente vehicular en el trayecto.\n",
    "- Manifestaciones politicas o culturales en el trayecto.\n",
    "- Falla del Bus.\n",
    "- Accidente en el trayecto de caminata.\n",
    "- Desastre Natural."
   ]
  },
  {
   "cell_type": "markdown",
   "metadata": {},
   "source": [
    "### Ejercicio 4\n",
    "Son dos las características que nos permiten asegurar que el mecanismo generador de una variable aleatoria se aproxime a una distribución gaussiana:\n",
    "- Diversidad de las fuentes de donde se obtiene la informacion.\n",
    "- Independencia de la informacion aportada por la fuente."
   ]
  },
  {
   "cell_type": "markdown",
   "metadata": {},
   "source": [
    "### Ejercicio 5\n",
    "Leemos el fichero y usamos la funcion ***summary*** como se indica en el enunciado:"
   ]
  },
  {
   "cell_type": "code",
   "execution_count": 3,
   "metadata": {},
   "outputs": [
    {
     "data": {
      "text/html": [
       "<table>\n",
       "<thead><tr><th scope=col>Valor</th><th scope=col>Superf</th><th scope=col>Dorm</th><th scope=col>Banys</th><th scope=col>Edat</th><th scope=col>Estat</th><th scope=col>Planta</th><th scope=col>Dist</th><th scope=col>ValSol</th><th scope=col>Tipus</th><th scope=col>Ascens</th><th scope=col>ExtInt</th><th scope=col>Reforma</th></tr></thead>\n",
       "<tbody>\n",
       "\t<tr><td>4962780     </td><td>31.41       </td><td>2           </td><td>1           </td><td> 70         </td><td>1_MM        </td><td>Planta      </td><td>Ciutat_Vella</td><td>113322.15   </td><td>MANZ        </td><td>NO          </td><td>EXT         </td><td>REF15-20    </td></tr>\n",
       "\t<tr><td>7001400     </td><td>42.00       </td><td>1           </td><td>1           </td><td>100         </td><td>2_M         </td><td>Planta      </td><td>Ciutat_Vella</td><td> 89407.53   </td><td>MANZ        </td><td>NO          </td><td>EXT         </td><td>REF1A5      </td></tr>\n",
       "\t<tr><td>8283600     </td><td>42.48       </td><td>2           </td><td>1           </td><td> 80         </td><td>2_M         </td><td>Planta      </td><td>Ciutat_Vella</td><td>122622.28   </td><td>MANZ        </td><td>NO          </td><td>EXT         </td><td>RECIENREF   </td></tr>\n",
       "</tbody>\n",
       "</table>\n"
      ],
      "text/latex": [
       "\\begin{tabular}{r|lllllllllllll}\n",
       " Valor & Superf & Dorm & Banys & Edat & Estat & Planta & Dist & ValSol & Tipus & Ascens & ExtInt & Reforma\\\\\n",
       "\\hline\n",
       "\t 4962780        & 31.41          & 2              & 1              &  70            & 1\\_MM         & Planta         & Ciutat\\_Vella & 113322.15      & MANZ           & NO             & EXT            & REF15-20      \\\\\n",
       "\t 7001400        & 42.00          & 1              & 1              & 100            & 2\\_M          & Planta         & Ciutat\\_Vella &  89407.53      & MANZ           & NO             & EXT            & REF1A5        \\\\\n",
       "\t 8283600        & 42.48          & 2              & 1              &  80            & 2\\_M          & Planta         & Ciutat\\_Vella & 122622.28      & MANZ           & NO             & EXT            & RECIENREF     \\\\\n",
       "\\end{tabular}\n"
      ],
      "text/markdown": [
       "\n",
       "| Valor | Superf | Dorm | Banys | Edat | Estat | Planta | Dist | ValSol | Tipus | Ascens | ExtInt | Reforma |\n",
       "|---|---|---|---|---|---|---|---|---|---|---|---|---|\n",
       "| 4962780      | 31.41        | 2            | 1            |  70          | 1_MM         | Planta       | Ciutat_Vella | 113322.15    | MANZ         | NO           | EXT          | REF15-20     |\n",
       "| 7001400      | 42.00        | 1            | 1            | 100          | 2_M          | Planta       | Ciutat_Vella |  89407.53    | MANZ         | NO           | EXT          | REF1A5       |\n",
       "| 8283600      | 42.48        | 2            | 1            |  80          | 2_M          | Planta       | Ciutat_Vella | 122622.28    | MANZ         | NO           | EXT          | RECIENREF    |\n",
       "\n"
      ],
      "text/plain": [
       "  Valor   Superf Dorm Banys Edat Estat Planta Dist         ValSol    Tipus\n",
       "1 4962780 31.41  2    1      70  1_MM  Planta Ciutat_Vella 113322.15 MANZ \n",
       "2 7001400 42.00  1    1     100  2_M   Planta Ciutat_Vella  89407.53 MANZ \n",
       "3 8283600 42.48  2    1      80  2_M   Planta Ciutat_Vella 122622.28 MANZ \n",
       "  Ascens ExtInt Reforma  \n",
       "1 NO     EXT    REF15-20 \n",
       "2 NO     EXT    REF1A5   \n",
       "3 NO     EXT    RECIENREF"
      ]
     },
     "metadata": {},
     "output_type": "display_data"
    },
    {
     "data": {
      "text/plain": [
       "     Valor              Superf            Dorm           Banys      \n",
       " Min.   : 3007368   Min.   : 23.24   Min.   :1.000   Min.   :1.000  \n",
       " 1st Qu.:12025000   1st Qu.: 64.20   1st Qu.:2.000   1st Qu.:1.000  \n",
       " Median :15456000   Median : 78.54   Median :3.000   Median :1.000  \n",
       " Mean   :17823727   Mean   : 83.97   Mean   :2.903   Mean   :1.319  \n",
       " 3rd Qu.:20920248   3rd Qu.: 95.00   3rd Qu.:3.000   3rd Qu.:2.000  \n",
       " Max.   :99662144   Max.   :475.30   Max.   :5.000   Max.   :4.000  \n",
       "                                                                    \n",
       "      Edat         Estat        Planta               Dist         ValSol      \n",
       " Min.   :  0.00   1_MM:395   Atic  : 255   Eixample    :385   Min.   : 20321  \n",
       " 1st Qu.: 25.00   2_M :692   Bajos : 119   Sant_Marti  :335   1st Qu.:106679  \n",
       " Median : 30.00   3_N :856   Planta:1955   Sants       :329   Median :119965  \n",
       " Mean   : 40.75   4_B :277                 Horta       :252   Mean   :128708  \n",
       " 3rd Qu.: 50.00   5_MB:109                 Nou_Barris  :234   3rd Qu.:146537  \n",
       " Max.   :289.00                            Ciutat_Vella:192   Max.   :365754  \n",
       "                                           (Other)     :602                   \n",
       "  Tipus      Ascens    ExtInt           Reforma   \n",
       " BLOQ: 282   NO: 920   EXT:1991   REF1A5    :778  \n",
       " MANZ:2047   SI:1409   INT: 338   SINREFORMA:501  \n",
       "                                  REF5A10   :378  \n",
       "                                  RECIENREF :197  \n",
       "                                  REF10-15  :182  \n",
       "                                  REF>20    :115  \n",
       "                                  (Other)   :178  "
      ]
     },
     "metadata": {},
     "output_type": "display_data"
    }
   ],
   "source": [
    "bcnpisos <- read.table(\"bcn_pisos.txt\", header=TRUE) \n",
    "bcnpisos[1:3,]\n",
    "summary(bcnpisos);"
   ]
  },
  {
   "cell_type": "markdown",
   "metadata": {},
   "source": [
    "Detectamos los duplicados con la funcion ***duplicated*** y usamos la funcion ***sum*** para determinar la cantidad:"
   ]
  },
  {
   "cell_type": "code",
   "execution_count": 4,
   "metadata": {},
   "outputs": [
    {
     "name": "stdout",
     "output_type": "stream",
     "text": [
      "Tenemos 75 duplicados"
     ]
    }
   ],
   "source": [
    "sum_sup<-sum(duplicated(bcnpisos))\n",
    "cat(\"Tenemos\",sum_sup,\"duplicados\")"
   ]
  },
  {
   "cell_type": "markdown",
   "metadata": {},
   "source": [
    "Ahora para eliminar esos 75 duplicados usamos la funcion ***unique*** y observamos que el nuevo dataframe *bcnpisosuni* se han reducido de 2329 a 2254 registros."
   ]
  },
  {
   "cell_type": "code",
   "execution_count": 5,
   "metadata": {},
   "outputs": [
    {
     "name": "stdout",
     "output_type": "stream",
     "text": [
      "'data.frame':\t2329 obs. of  13 variables:\n",
      " $ Valor  : int  4962780 7001400 8283600 10248000 19566720 9575648 6610500 10000000 6014086 9919000 ...\n",
      " $ Superf : num  31.4 42 42.5 61 96 ...\n",
      " $ Dorm   : int  2 1 2 3 2 2 2 2 2 2 ...\n",
      " $ Banys  : int  1 1 1 1 2 1 1 1 1 1 ...\n",
      " $ Edat   : int  70 100 80 100 0 113 90 25 80 113 ...\n",
      " $ Estat  : Factor w/ 5 levels \"1_MM\",\"2_M\",\"3_N\",..: 1 2 2 1 5 1 1 1 1 1 ...\n",
      " $ Planta : Factor w/ 3 levels \"Atic\",\"Bajos\",..: 3 3 3 3 3 1 3 3 3 1 ...\n",
      " $ Dist   : Factor w/ 10 levels \"Ciutat_Vella\",..: 1 1 1 1 1 1 1 1 1 1 ...\n",
      " $ ValSol : num  113322 89408 122622 105351 86750 ...\n",
      " $ Tipus  : Factor w/ 2 levels \"BLOQ\",\"MANZ\": 2 2 2 2 2 2 2 2 2 2 ...\n",
      " $ Ascens : Factor w/ 2 levels \"NO\",\"SI\": 1 1 1 2 2 1 2 2 1 1 ...\n",
      " $ ExtInt : Factor w/ 2 levels \"EXT\",\"INT\": 1 1 1 1 1 1 1 1 2 1 ...\n",
      " $ Reforma: Factor w/ 9 levels \"E=R\",\"OBRANUEVA\",..: 6 7 3 3 2 5 9 9 7 5 ...\n",
      "'data.frame':\t2254 obs. of  13 variables:\n",
      " $ Valor  : int  4962780 7001400 8283600 10248000 19566720 9575648 6610500 10000000 6014086 9919000 ...\n",
      " $ Superf : num  31.4 42 42.5 61 96 ...\n",
      " $ Dorm   : int  2 1 2 3 2 2 2 2 2 2 ...\n",
      " $ Banys  : int  1 1 1 1 2 1 1 1 1 1 ...\n",
      " $ Edat   : int  70 100 80 100 0 113 90 25 80 113 ...\n",
      " $ Estat  : Factor w/ 5 levels \"1_MM\",\"2_M\",\"3_N\",..: 1 2 2 1 5 1 1 1 1 1 ...\n",
      " $ Planta : Factor w/ 3 levels \"Atic\",\"Bajos\",..: 3 3 3 3 3 1 3 3 3 1 ...\n",
      " $ Dist   : Factor w/ 10 levels \"Ciutat_Vella\",..: 1 1 1 1 1 1 1 1 1 1 ...\n",
      " $ ValSol : num  113322 89408 122622 105351 86750 ...\n",
      " $ Tipus  : Factor w/ 2 levels \"BLOQ\",\"MANZ\": 2 2 2 2 2 2 2 2 2 2 ...\n",
      " $ Ascens : Factor w/ 2 levels \"NO\",\"SI\": 1 1 1 2 2 1 2 2 1 1 ...\n",
      " $ ExtInt : Factor w/ 2 levels \"EXT\",\"INT\": 1 1 1 1 1 1 1 1 2 1 ...\n",
      " $ Reforma: Factor w/ 9 levels \"E=R\",\"OBRANUEVA\",..: 6 7 3 3 2 5 9 9 7 5 ...\n"
     ]
    }
   ],
   "source": [
    "str(bcnpisos)\n",
    "bcnpisosuni<-unique(bcnpisos)\n",
    "str(bcnpisosuni)"
   ]
  },
  {
   "cell_type": "markdown",
   "metadata": {},
   "source": [
    "### Ejercicio 6\n",
    "Tenemos que graficar cada variable segun su tipo. Comenzamos con las variables continuas:\n",
    "\n",
    "*Variable* ***VALOR***"
   ]
  },
  {
   "cell_type": "code",
   "execution_count": 183,
   "metadata": {},
   "outputs": [
    {
     "data": {
      "image/png": "[encoded data removed]",
      "text/plain": [
       "Plot with title \"VALOR\""
      ]
     },
     "metadata": {},
     "output_type": "display_data"
    }
   ],
   "source": [
    "hist(bcnpisosuni$Valor,col='red',main='VALOR',xlab=\"Valores\")"
   ]
  },
  {
   "cell_type": "markdown",
   "metadata": {},
   "source": [
    "*Variable* ***Superf***"
   ]
  },
  {
   "cell_type": "code",
   "execution_count": 185,
   "metadata": {},
   "outputs": [
    {
     "data": {
      "image/png": "[encoded data removed]",
      "text/plain": [
       "Plot with title \"Superf\""
      ]
     },
     "metadata": {},
     "output_type": "display_data"
    }
   ],
   "source": [
    "hist(bcnpisosuni$Superf,col='brown',main='Superf',xlab=\"Superf\")"
   ]
  },
  {
   "cell_type": "markdown",
   "metadata": {},
   "source": [
    "*Variable* ***Edat***"
   ]
  },
  {
   "cell_type": "code",
   "execution_count": 189,
   "metadata": {},
   "outputs": [
    {
     "data": {
      "image/png": "[encoded data removed]",
      "text/plain": [
       "Plot with title \"Edat\""
      ]
     },
     "metadata": {},
     "output_type": "display_data"
    }
   ],
   "source": [
    "hist(bcnpisosuni$Edat,col='green',main='Edat',xlab=\"Edat\")"
   ]
  },
  {
   "cell_type": "markdown",
   "metadata": {},
   "source": [
    "*Variable* ***ValSol***"
   ]
  },
  {
   "cell_type": "code",
   "execution_count": 188,
   "metadata": {},
   "outputs": [
    {
     "data": {
      "image/png": "[encoded data removed]",
      "text/plain": [
       "Plot with title \"ValSol\""
      ]
     },
     "metadata": {},
     "output_type": "display_data"
    }
   ],
   "source": [
    "hist(bcnpisosuni$ValSol,col='pink',main='ValSol',xlab=\"ValSol\")"
   ]
  },
  {
   "cell_type": "markdown",
   "metadata": {},
   "source": [
    "Ahora las categoricas:\n",
    "\n",
    "*Variable* ***Dorm***"
   ]
  },
  {
   "cell_type": "code",
   "execution_count": 195,
   "metadata": {},
   "outputs": [
    {
     "data": {
      "image/png": "[encoded data removed]",
      "text/plain": [
       "Plot with title \"Dorm\""
      ]
     },
     "metadata": {},
     "output_type": "display_data"
    }
   ],
   "source": [
    "barplot(table(bcnpisosuni$Dorm),col='yellow',main='Dorm',xlab=\"Cantidad de Dorm\")"
   ]
  },
  {
   "cell_type": "markdown",
   "metadata": {},
   "source": [
    "*Variable* ***Banys***"
   ]
  },
  {
   "cell_type": "code",
   "execution_count": 198,
   "metadata": {},
   "outputs": [
    {
     "data": {
      "image/png": "[encoded data removed]",
      "text/plain": [
       "Plot with title \"Banys\""
      ]
     },
     "metadata": {},
     "output_type": "display_data"
    }
   ],
   "source": [
    "barplot(table(bcnpisosuni$Banys),col='blue',main='Banys',xlab=\"Cantidad de Banys\")"
   ]
  },
  {
   "cell_type": "markdown",
   "metadata": {},
   "source": [
    "*Variable* ***Estat***"
   ]
  },
  {
   "cell_type": "code",
   "execution_count": 205,
   "metadata": {},
   "outputs": [
    {
     "data": {
      "image/png": "[encoded data removed]",
      "text/plain": [
       "Plot with title \"Estat\""
      ]
     },
     "metadata": {},
     "output_type": "display_data"
    }
   ],
   "source": [
    "barplot(table(bcnpisosuni$Estat),col='grey',main='Estat',xlab=\"Estat\")"
   ]
  },
  {
   "cell_type": "markdown",
   "metadata": {},
   "source": [
    "*Variable* ***Planta***"
   ]
  },
  {
   "cell_type": "code",
   "execution_count": 206,
   "metadata": {},
   "outputs": [
    {
     "data": {
      "image/png": "[encoded data removed]",
      "text/plain": [
       "Plot with title \"Planta\""
      ]
     },
     "metadata": {},
     "output_type": "display_data"
    }
   ],
   "source": [
    "barplot(table(bcnpisosuni$Planta),col='purple',main='Planta',xlab=\"Planta\")"
   ]
  },
  {
   "cell_type": "markdown",
   "metadata": {},
   "source": [
    "*Variable* ***Dist***"
   ]
  },
  {
   "cell_type": "code",
   "execution_count": 207,
   "metadata": {},
   "outputs": [
    {
     "data": {
      "image/png": "[encoded data removed]",
      "text/plain": [
       "Plot with title \"Dist\""
      ]
     },
     "metadata": {},
     "output_type": "display_data"
    }
   ],
   "source": [
    "barplot(table(bcnpisosuni$Dist),col='red',main='Dist',xlab=\"Dist\")"
   ]
  },
  {
   "cell_type": "markdown",
   "metadata": {},
   "source": [
    "*Variable* ***Tipus***"
   ]
  },
  {
   "cell_type": "code",
   "execution_count": 208,
   "metadata": {},
   "outputs": [
    {
     "data": {
      "image/png": "[encoded data removed]",
      "text/plain": [
       "Plot with title \"Tipus\""
      ]
     },
     "metadata": {},
     "output_type": "display_data"
    }
   ],
   "source": [
    "barplot(table(bcnpisosuni$Tipus),col='yellow',main='Tipus',xlab=\"Tipus\")"
   ]
  },
  {
   "cell_type": "markdown",
   "metadata": {},
   "source": [
    "*Variable* ***Ascens***"
   ]
  },
  {
   "cell_type": "code",
   "execution_count": 210,
   "metadata": {},
   "outputs": [
    {
     "data": {
      "image/png": "[encoded data removed]",
      "text/plain": [
       "Plot with title \"Ascens\""
      ]
     },
     "metadata": {},
     "output_type": "display_data"
    }
   ],
   "source": [
    "barplot(table(bcnpisosuni$Ascens),col='white',main='Ascens',xlab=\"Ascens\")"
   ]
  },
  {
   "cell_type": "markdown",
   "metadata": {},
   "source": [
    "*Variable* ***ExtInt***"
   ]
  },
  {
   "cell_type": "code",
   "execution_count": 213,
   "metadata": {},
   "outputs": [
    {
     "data": {
      "image/png": "[encoded data removed]",
      "text/plain": [
       "Plot with title \"ExtInt\""
      ]
     },
     "metadata": {},
     "output_type": "display_data"
    }
   ],
   "source": [
    "barplot(table(bcnpisosuni$ExtInt),col='green',main='ExtInt',xlab=\"ExtInt\")"
   ]
  },
  {
   "cell_type": "markdown",
   "metadata": {},
   "source": [
    "*Variable* ***Reforma***"
   ]
  },
  {
   "cell_type": "code",
   "execution_count": 214,
   "metadata": {
    "scrolled": true
   },
   "outputs": [
    {
     "data": {
      "image/png": "[encoded data removed]",
      "text/plain": [
       "Plot with title \"Reforma\""
      ]
     },
     "metadata": {},
     "output_type": "display_data"
    }
   ],
   "source": [
    "barplot(table(bcnpisosuni$Reforma),col='brown',main='Reforma',xlab=\"Reforma\")"
   ]
  },
  {
   "cell_type": "markdown",
   "metadata": {},
   "source": [
    "### Ejercicio 7\n",
    "Para este caso puntual tenemos que usar el algoritmo LOF(Local Outlier Factor) ya que tenemos varias variables continuas"
   ]
  },
  {
   "cell_type": "code",
   "execution_count": 32,
   "metadata": {},
   "outputs": [
    {
     "data": {
      "text/html": [
       "<ol class=list-inline>\n",
       "\t<li>110</li>\n",
       "\t<li>1729</li>\n",
       "\t<li>1990</li>\n",
       "\t<li>1676</li>\n",
       "\t<li>111</li>\n",
       "\t<li>160</li>\n",
       "\t<li>1097</li>\n",
       "\t<li>402</li>\n",
       "\t<li>1927</li>\n",
       "\t<li>1114</li>\n",
       "</ol>\n"
      ],
      "text/latex": [
       "\\begin{enumerate*}\n",
       "\\item 110\n",
       "\\item 1729\n",
       "\\item 1990\n",
       "\\item 1676\n",
       "\\item 111\n",
       "\\item 160\n",
       "\\item 1097\n",
       "\\item 402\n",
       "\\item 1927\n",
       "\\item 1114\n",
       "\\end{enumerate*}\n"
      ],
      "text/markdown": [
       "1. 110\n",
       "2. 1729\n",
       "3. 1990\n",
       "4. 1676\n",
       "5. 111\n",
       "6. 160\n",
       "7. 1097\n",
       "8. 402\n",
       "9. 1927\n",
       "10. 1114\n",
       "\n",
       "\n"
      ],
      "text/plain": [
       " [1]  110 1729 1990 1676  111  160 1097  402 1927 1114"
      ]
     },
     "metadata": {},
     "output_type": "display_data"
    },
    {
     "data": {
      "text/html": [
       "<ol class=list-inline>\n",
       "\t<li>4.74922835237292</li>\n",
       "\t<li>2.6773090727712</li>\n",
       "\t<li>2.41808842865521</li>\n",
       "\t<li>2.35805054096259</li>\n",
       "\t<li>2.25845858339645</li>\n",
       "\t<li>2.23887661425844</li>\n",
       "\t<li>2.08632101800855</li>\n",
       "\t<li>2.04200981967598</li>\n",
       "\t<li>2.02552613458529</li>\n",
       "\t<li>1.91500916950197</li>\n",
       "</ol>\n"
      ],
      "text/latex": [
       "\\begin{enumerate*}\n",
       "\\item 4.74922835237292\n",
       "\\item 2.6773090727712\n",
       "\\item 2.41808842865521\n",
       "\\item 2.35805054096259\n",
       "\\item 2.25845858339645\n",
       "\\item 2.23887661425844\n",
       "\\item 2.08632101800855\n",
       "\\item 2.04200981967598\n",
       "\\item 2.02552613458529\n",
       "\\item 1.91500916950197\n",
       "\\end{enumerate*}\n"
      ],
      "text/markdown": [
       "1. 4.74922835237292\n",
       "2. 2.6773090727712\n",
       "3. 2.41808842865521\n",
       "4. 2.35805054096259\n",
       "5. 2.25845858339645\n",
       "6. 2.23887661425844\n",
       "7. 2.08632101800855\n",
       "8. 2.04200981967598\n",
       "9. 2.02552613458529\n",
       "10. 1.91500916950197\n",
       "\n",
       "\n"
      ],
      "text/plain": [
       " [1] 4.749228 2.677309 2.418088 2.358051 2.258459 2.238877 2.086321 2.042010\n",
       " [9] 2.025526 1.915009"
      ]
     },
     "metadata": {},
     "output_type": "display_data"
    },
    {
     "data": {
      "text/html": [
       "<table>\n",
       "<thead><tr><th></th><th scope=col>outlier.scores[outliers]</th><th scope=col>Valor</th><th scope=col>Superf</th><th scope=col>Edat</th><th scope=col>ValSol</th></tr></thead>\n",
       "<tbody>\n",
       "\t<tr><th scope=row>112</th><td>4.749228 </td><td>80126080 </td><td>475.30   </td><td>289      </td><td>166465.75</td></tr>\n",
       "\t<tr><th scope=row>1787</th><td>2.677309 </td><td> 6908846 </td><td> 86.63   </td><td> 10      </td><td> 20320.85</td></tr>\n",
       "\t<tr><th scope=row>2058</th><td>2.418088 </td><td>99662144 </td><td>204.00   </td><td> 28      </td><td>365754.25</td></tr>\n",
       "\t<tr><th scope=row>1732</th><td>2.358051 </td><td>23520000 </td><td>168.00   </td><td> 35      </td><td> 66821.50</td></tr>\n",
       "\t<tr><th scope=row>113</th><td>2.258459 </td><td>15190944 </td><td>102.85   </td><td>209      </td><td>106679.20</td></tr>\n",
       "\t<tr><th scope=row>163</th><td>2.238877 </td><td> 3283200 </td><td> 60.00   </td><td>198      </td><td> 80107.40</td></tr>\n",
       "\t<tr><th scope=row>1139</th><td>2.086321 </td><td>38354208 </td><td>103.66   </td><td> 50      </td><td>292681.80</td></tr>\n",
       "\t<tr><th scope=row>409</th><td>2.042010 </td><td>67587904 </td><td>182.67   </td><td> 60      </td><td>345825.40</td></tr>\n",
       "\t<tr><th scope=row>1995</th><td>2.025526 </td><td> 7170080 </td><td> 87.44   </td><td> 35      </td><td> 26963.80</td></tr>\n",
       "\t<tr><th scope=row>1156</th><td>1.915009 </td><td>51175008 </td><td>115.00   </td><td>  0      </td><td>279395.90</td></tr>\n",
       "</tbody>\n",
       "</table>\n"
      ],
      "text/latex": [
       "\\begin{tabular}{r|lllll}\n",
       "  & outlier.scores{[}outliers{]} & Valor & Superf & Edat & ValSol\\\\\n",
       "\\hline\n",
       "\t112 & 4.749228  & 80126080  & 475.30    & 289       & 166465.75\\\\\n",
       "\t1787 & 2.677309  &  6908846  &  86.63    &  10       &  20320.85\\\\\n",
       "\t2058 & 2.418088  & 99662144  & 204.00    &  28       & 365754.25\\\\\n",
       "\t1732 & 2.358051  & 23520000  & 168.00    &  35       &  66821.50\\\\\n",
       "\t113 & 2.258459  & 15190944  & 102.85    & 209       & 106679.20\\\\\n",
       "\t163 & 2.238877  &  3283200  &  60.00    & 198       &  80107.40\\\\\n",
       "\t1139 & 2.086321  & 38354208  & 103.66    &  50       & 292681.80\\\\\n",
       "\t409 & 2.042010  & 67587904  & 182.67    &  60       & 345825.40\\\\\n",
       "\t1995 & 2.025526  &  7170080  &  87.44    &  35       &  26963.80\\\\\n",
       "\t1156 & 1.915009  & 51175008  & 115.00    &   0       & 279395.90\\\\\n",
       "\\end{tabular}\n"
      ],
      "text/markdown": [
       "\n",
       "| <!--/--> | outlier.scores[outliers] | Valor | Superf | Edat | ValSol |\n",
       "|---|---|---|---|---|---|\n",
       "| 112 | 4.749228  | 80126080  | 475.30    | 289       | 166465.75 |\n",
       "| 1787 | 2.677309  |  6908846  |  86.63    |  10       |  20320.85 |\n",
       "| 2058 | 2.418088  | 99662144  | 204.00    |  28       | 365754.25 |\n",
       "| 1732 | 2.358051  | 23520000  | 168.00    |  35       |  66821.50 |\n",
       "| 113 | 2.258459  | 15190944  | 102.85    | 209       | 106679.20 |\n",
       "| 163 | 2.238877  |  3283200  |  60.00    | 198       |  80107.40 |\n",
       "| 1139 | 2.086321  | 38354208  | 103.66    |  50       | 292681.80 |\n",
       "| 409 | 2.042010  | 67587904  | 182.67    |  60       | 345825.40 |\n",
       "| 1995 | 2.025526  |  7170080  |  87.44    |  35       |  26963.80 |\n",
       "| 1156 | 1.915009  | 51175008  | 115.00    |   0       | 279395.90 |\n",
       "\n"
      ],
      "text/plain": [
       "     outlier.scores[outliers] Valor    Superf Edat ValSol   \n",
       "112  4.749228                 80126080 475.30 289  166465.75\n",
       "1787 2.677309                  6908846  86.63  10   20320.85\n",
       "2058 2.418088                 99662144 204.00  28  365754.25\n",
       "1732 2.358051                 23520000 168.00  35   66821.50\n",
       "113  2.258459                 15190944 102.85 209  106679.20\n",
       "163  2.238877                  3283200  60.00 198   80107.40\n",
       "1139 2.086321                 38354208 103.66  50  292681.80\n",
       "409  2.042010                 67587904 182.67  60  345825.40\n",
       "1995 2.025526                  7170080  87.44  35   26963.80\n",
       "1156 1.915009                 51175008 115.00   0  279395.90"
      ]
     },
     "metadata": {},
     "output_type": "display_data"
    },
    {
     "data": {
      "image/png": "[encoded data removed]",
      "text/plain": [
       "Plot with title \"density.default(x = outlier.scores)\""
      ]
     },
     "metadata": {},
     "output_type": "display_data"
    }
   ],
   "source": [
    "bcnpisoscont<-bcnpisosuni[c(\"Valor\",\"Superf\",\"Edat\",\"ValSol\")]\n",
    "library(DMwR)\n",
    "outlier.scores<-lofactor(scale(bcnpisoscont),k=13);\n",
    "plot(density(outlier.scores))\n",
    "outliers <- order(outlier.scores, decreasing=T)[1:10]\n",
    "outliers\n",
    "outlier.scores[outliers]\n",
    "cbind(outlier.scores[outliers],bcnpisoscont[outliers,])"
   ]
  },
  {
   "cell_type": "markdown",
   "metadata": {},
   "source": [
    "Como lo obtenido observamos que efectivamente tenemos valores outliers, lo cual sugiere que se descarten los 6 primeros valores indicados."
   ]
  },
  {
   "cell_type": "markdown",
   "metadata": {},
   "source": [
    "### Ejercicio 8\n",
    "Efectuamos el diagrama bivariante entre el Valor y la Superficie de los pisos, realizando una variacion en la muestra del Valor para una mejor visualizacion:"
   ]
  },
  {
   "cell_type": "code",
   "execution_count": 86,
   "metadata": {},
   "outputs": [
    {
     "data": {
      "image/png": "[encoded data removed]",
      "text/plain": [
       "Plot with title \"Relación entre el Valor de los pisos y sus Superficies\""
      ]
     },
     "metadata": {},
     "output_type": "display_data"
    }
   ],
   "source": [
    "#Dividimos entre un millon para tener una mejor visualizacion en el diagrama\n",
    "Valor<-bcnpisosuni$Valor/1000000\n",
    "Superf<-bcnpisosuni$Superf\n",
    "#Dibujamos el diagrama\n",
    "plot(Superf,Valor, main=\"Relación entre el Valor de los pisos y sus Superficies\",pch=17,col=\"green\",ylab=\"Valor (en millones)\",\n",
    ")\n",
    "#Agregamos la media de ambas variables analizadas\n",
    "abline(h=mean(Valor),col=\"blue\")\n",
    "abline(v=mean(Superf),col=\"blue\")"
   ]
  },
  {
   "cell_type": "markdown",
   "metadata": {},
   "source": [
    "Ahora calculamos su Covariancia y su correlacion:"
   ]
  },
  {
   "cell_type": "code",
   "execution_count": 87,
   "metadata": {},
   "outputs": [
    {
     "name": "stdout",
     "output_type": "stream",
     "text": [
      "La Covariancia es  280.0852 .\n",
      "La Correlacion es  0.8817232 ."
     ]
    }
   ],
   "source": [
    "covSV<-cov(Superf,Valor)\n",
    "corSV<-cor(Superf,Valor)\n",
    "cat(\"La Covariancia es \",covSV,\".\\n\")\n",
    "cat(\"La Correlacion es \",corSV,\".\")"
   ]
  },
  {
   "cell_type": "markdown",
   "metadata": {},
   "source": [
    "### Ejercicio 9\n",
    "Para calcular la asociacion entre el Valor de los Pisos y el Distrito usamos el analisis de la varianza de Fisher con la funcion ***oneway.test***, por lo que inicialmente mostramos los graficos importantes para asociarlo con lo obtenido con la funcion indicada"
   ]
  },
  {
   "cell_type": "code",
   "execution_count": 167,
   "metadata": {},
   "outputs": [
    {
     "data": {
      "text/html": [
       "<dl class=dl-horizontal>\n",
       "\t<dt>Ciutat_Vella</dt>\n",
       "\t\t<dd>11.5234080212766</dd>\n",
       "\t<dt>Eixample</dt>\n",
       "\t\t<dd>21.8613012970027</dd>\n",
       "\t<dt>Gracia</dt>\n",
       "\t\t<dd>17.401416</dd>\n",
       "\t<dt>Horta</dt>\n",
       "\t\t<dd>15.7698321686747</dd>\n",
       "\t<dt>Les_Corts</dt>\n",
       "\t\t<dd>28.7544749879518</dd>\n",
       "\t<dt>Nou_Barris</dt>\n",
       "\t\t<dd>13.3524741704036</dd>\n",
       "\t<dt>Sant_Andreu</dt>\n",
       "\t\t<dd>15.3657458162162</dd>\n",
       "\t<dt>Sant_Marti</dt>\n",
       "\t\t<dd>15.1172123415385</dd>\n",
       "\t<dt>Sants</dt>\n",
       "\t\t<dd>15.5986547398119</dd>\n",
       "\t<dt>Sarria</dt>\n",
       "\t\t<dd>33.0224709934641</dd>\n",
       "</dl>\n"
      ],
      "text/latex": [
       "\\begin{description*}\n",
       "\\item[Ciutat\\textbackslash{}\\_Vella] 11.5234080212766\n",
       "\\item[Eixample] 21.8613012970027\n",
       "\\item[Gracia] 17.401416\n",
       "\\item[Horta] 15.7698321686747\n",
       "\\item[Les\\textbackslash{}\\_Corts] 28.7544749879518\n",
       "\\item[Nou\\textbackslash{}\\_Barris] 13.3524741704036\n",
       "\\item[Sant\\textbackslash{}\\_Andreu] 15.3657458162162\n",
       "\\item[Sant\\textbackslash{}\\_Marti] 15.1172123415385\n",
       "\\item[Sants] 15.5986547398119\n",
       "\\item[Sarria] 33.0224709934641\n",
       "\\end{description*}\n"
      ],
      "text/markdown": [
       "Ciutat_Vella\n",
       ":   11.5234080212766Eixample\n",
       ":   21.8613012970027Gracia\n",
       ":   17.401416Horta\n",
       ":   15.7698321686747Les_Corts\n",
       ":   28.7544749879518Nou_Barris\n",
       ":   13.3524741704036Sant_Andreu\n",
       ":   15.3657458162162Sant_Marti\n",
       ":   15.1172123415385Sants\n",
       ":   15.5986547398119Sarria\n",
       ":   33.0224709934641\n",
       "\n"
      ],
      "text/plain": [
       "Ciutat_Vella     Eixample       Gracia        Horta    Les_Corts   Nou_Barris \n",
       "    11.52341     21.86130     17.40142     15.76983     28.75447     13.35247 \n",
       " Sant_Andreu   Sant_Marti        Sants       Sarria \n",
       "    15.36575     15.11721     15.59865     33.02247 "
      ]
     },
     "metadata": {},
     "output_type": "display_data"
    },
    {
     "data": {
      "image/png": "[encoded data removed]",
      "text/plain": [
       "Plot with title \"La media del valor de los pisos segun Distrito\""
      ]
     },
     "metadata": {},
     "output_type": "display_data"
    }
   ],
   "source": [
    "Valor<-bcnpisosuni$Valor\n",
    "Valor<-bcnpisosuni$Valor/1000000\n",
    "Dist<-bcnpisosuni$Dist\n",
    "#Tabla de Medias segun Distrito\n",
    "tapply(Valor,Dist,mean)\n",
    "\n",
    "#Grafico de las medias\n",
    "barplot(tapply(Valor,Dist,mean),main=\"La media del valor de los pisos segun Distrito\")\n",
    "abline(h=mean(Valor),col=\"blue\")\n",
    "legend(x=3.5,y=mean(Valor),legend=\"Media general\",bty=\"n\",text.col=\"blue\")"
   ]
  },
  {
   "cell_type": "code",
   "execution_count": 168,
   "metadata": {},
   "outputs": [
    {
     "data": {
      "image/png": "[encoded data removed]",
      "text/plain": [
       "Plot with title \"Valor de los Pisos segun Distrito\""
      ]
     },
     "metadata": {},
     "output_type": "display_data"
    }
   ],
   "source": [
    "#Grafico de valores segun Distrito\n",
    "stripchart(Valor~Dist,col=2:13,pch=19,main=\"Valor de los Pisos segun Distrito\")\n",
    "abline(v=mean(Valor),col=\"gray\")"
   ]
  },
  {
   "cell_type": "markdown",
   "metadata": {},
   "source": [
    "Ahora calculamos el ***F*** con la funcion ***oneway.test***:"
   ]
  },
  {
   "cell_type": "code",
   "execution_count": 146,
   "metadata": {},
   "outputs": [
    {
     "data": {
      "text/plain": [
       "\n",
       "\tOne-way analysis of means\n",
       "\n",
       "data:  Valor and Dist\n",
       "F = 116.94, num df = 9, denom df = 2244, p-value < 2.2e-16\n"
      ]
     },
     "metadata": {},
     "output_type": "display_data"
    }
   ],
   "source": [
    "oneway.test(Valor~Dist,var.equal=T)"
   ]
  },
  {
   "cell_type": "markdown",
   "metadata": {},
   "source": [
    "Con lo obtenido determinamos que es son dependientes."
   ]
  },
  {
   "cell_type": "markdown",
   "metadata": {},
   "source": [
    "### Ejercicio 10\n",
    "Para calcular la asociacion entre el Distrito y el Estado de la Vivienda tenemos que calcular el Chi Cuadrado(\"Chi-square\"). Por lo que necesitamos realizar la tabla de contigencia de las dos variables:"
   ]
  },
  {
   "cell_type": "code",
   "execution_count": 114,
   "metadata": {},
   "outputs": [
    {
     "data": {
      "text/plain": [
       "              Estat\n",
       "Dist           1_MM 2_M 3_N 4_B 5_MB\n",
       "  Ciutat_Vella   76  52  45   9    6\n",
       "  Eixample       76 119 119  35   18\n",
       "  Gracia         36  49  49  23    5\n",
       "  Horta          24  68 110  34   13\n",
       "  Les_Corts       4  26  36  11    6\n",
       "  Nou_Barris     29  77  94  17    6\n",
       "  Sant_Andreu    19  53  84  19   10\n",
       "  Sant_Marti     45  89 119  55   17\n",
       "  Sants          42  95 121  41   20\n",
       "  Sarria         19  51  56  22    5"
      ]
     },
     "metadata": {},
     "output_type": "display_data"
    },
    {
     "data": {
      "text/plain": [
       "Dist\n",
       "Ciutat_Vella     Eixample       Gracia        Horta    Les_Corts   Nou_Barris \n",
       "         188          367          162          249           83          223 \n",
       " Sant_Andreu   Sant_Marti        Sants       Sarria \n",
       "         185          325          319          153 "
      ]
     },
     "metadata": {},
     "output_type": "display_data"
    },
    {
     "data": {
      "text/plain": [
       "Estat\n",
       "1_MM  2_M  3_N  4_B 5_MB \n",
       " 370  679  833  266  106 "
      ]
     },
     "metadata": {},
     "output_type": "display_data"
    }
   ],
   "source": [
    "Estat<-bcnpisosuni$Estat\n",
    "table(Dist,Estat)\n",
    "table(Dist)\n",
    "table(Estat)\n",
    "\n"
   ]
  },
  {
   "cell_type": "markdown",
   "metadata": {},
   "source": [
    "Mostramos sus frecuencias marginales, que van ser utiles para el calculo del Chi Cuadrado:"
   ]
  },
  {
   "cell_type": "code",
   "execution_count": 116,
   "metadata": {},
   "outputs": [
    {
     "data": {
      "text/html": [
       "<table>\n",
       "<thead><tr><th></th><th scope=col>1_MM</th><th scope=col>2_M</th><th scope=col>3_N</th><th scope=col>4_B</th><th scope=col>5_MB</th><th scope=col>Sum</th></tr></thead>\n",
       "<tbody>\n",
       "\t<tr><th scope=row>Ciutat_Vella</th><td> 76 </td><td> 52 </td><td> 45 </td><td>  9 </td><td>  6 </td><td> 188</td></tr>\n",
       "\t<tr><th scope=row>Eixample</th><td> 76 </td><td>119 </td><td>119 </td><td> 35 </td><td> 18 </td><td> 367</td></tr>\n",
       "\t<tr><th scope=row>Gracia</th><td> 36 </td><td> 49 </td><td> 49 </td><td> 23 </td><td>  5 </td><td> 162</td></tr>\n",
       "\t<tr><th scope=row>Horta</th><td> 24 </td><td> 68 </td><td>110 </td><td> 34 </td><td> 13 </td><td> 249</td></tr>\n",
       "\t<tr><th scope=row>Les_Corts</th><td>  4 </td><td> 26 </td><td> 36 </td><td> 11 </td><td>  6 </td><td>  83</td></tr>\n",
       "\t<tr><th scope=row>Nou_Barris</th><td> 29 </td><td> 77 </td><td> 94 </td><td> 17 </td><td>  6 </td><td> 223</td></tr>\n",
       "\t<tr><th scope=row>Sant_Andreu</th><td> 19 </td><td> 53 </td><td> 84 </td><td> 19 </td><td> 10 </td><td> 185</td></tr>\n",
       "\t<tr><th scope=row>Sant_Marti</th><td> 45 </td><td> 89 </td><td>119 </td><td> 55 </td><td> 17 </td><td> 325</td></tr>\n",
       "\t<tr><th scope=row>Sants</th><td> 42 </td><td> 95 </td><td>121 </td><td> 41 </td><td> 20 </td><td> 319</td></tr>\n",
       "\t<tr><th scope=row>Sarria</th><td> 19 </td><td> 51 </td><td> 56 </td><td> 22 </td><td>  5 </td><td> 153</td></tr>\n",
       "\t<tr><th scope=row>Sum</th><td>370 </td><td>679 </td><td>833 </td><td>266 </td><td>106 </td><td>2254</td></tr>\n",
       "</tbody>\n",
       "</table>\n"
      ],
      "text/latex": [
       "\\begin{tabular}{r|llllll}\n",
       "  & 1\\_MM & 2\\_M & 3\\_N & 4\\_B & 5\\_MB & Sum\\\\\n",
       "\\hline\n",
       "\tCiutat\\_Vella &  76  &  52  &  45  &   9  &   6  &  188\\\\\n",
       "\tEixample &  76  & 119  & 119  &  35  &  18  &  367\\\\\n",
       "\tGracia &  36  &  49  &  49  &  23  &   5  &  162\\\\\n",
       "\tHorta &  24  &  68  & 110  &  34  &  13  &  249\\\\\n",
       "\tLes\\_Corts &   4  &  26  &  36  &  11  &   6  &   83\\\\\n",
       "\tNou\\_Barris &  29  &  77  &  94  &  17  &   6  &  223\\\\\n",
       "\tSant\\_Andreu &  19  &  53  &  84  &  19  &  10  &  185\\\\\n",
       "\tSant\\_Marti &  45  &  89  & 119  &  55  &  17  &  325\\\\\n",
       "\tSants &  42  &  95  & 121  &  41  &  20  &  319\\\\\n",
       "\tSarria &  19  &  51  &  56  &  22  &   5  &  153\\\\\n",
       "\tSum & 370  & 679  & 833  & 266  & 106  & 2254\\\\\n",
       "\\end{tabular}\n"
      ],
      "text/markdown": [
       "\n",
       "| <!--/--> | 1_MM | 2_M | 3_N | 4_B | 5_MB | Sum |\n",
       "|---|---|---|---|---|---|---|\n",
       "| Ciutat_Vella |  76  |  52  |  45  |   9  |   6  |  188 |\n",
       "| Eixample |  76  | 119  | 119  |  35  |  18  |  367 |\n",
       "| Gracia |  36  |  49  |  49  |  23  |   5  |  162 |\n",
       "| Horta |  24  |  68  | 110  |  34  |  13  |  249 |\n",
       "| Les_Corts |   4  |  26  |  36  |  11  |   6  |   83 |\n",
       "| Nou_Barris |  29  |  77  |  94  |  17  |   6  |  223 |\n",
       "| Sant_Andreu |  19  |  53  |  84  |  19  |  10  |  185 |\n",
       "| Sant_Marti |  45  |  89  | 119  |  55  |  17  |  325 |\n",
       "| Sants |  42  |  95  | 121  |  41  |  20  |  319 |\n",
       "| Sarria |  19  |  51  |  56  |  22  |   5  |  153 |\n",
       "| Sum | 370  | 679  | 833  | 266  | 106  | 2254 |\n",
       "\n"
      ],
      "text/plain": [
       "              Estat\n",
       "Dist           1_MM 2_M 3_N 4_B 5_MB Sum \n",
       "  Ciutat_Vella  76   52  45   9   6   188\n",
       "  Eixample      76  119 119  35  18   367\n",
       "  Gracia        36   49  49  23   5   162\n",
       "  Horta         24   68 110  34  13   249\n",
       "  Les_Corts      4   26  36  11   6    83\n",
       "  Nou_Barris    29   77  94  17   6   223\n",
       "  Sant_Andreu   19   53  84  19  10   185\n",
       "  Sant_Marti    45   89 119  55  17   325\n",
       "  Sants         42   95 121  41  20   319\n",
       "  Sarria        19   51  56  22   5   153\n",
       "  Sum          370  679 833 266 106  2254"
      ]
     },
     "metadata": {},
     "output_type": "display_data"
    }
   ],
   "source": [
    "addmargins(table(Dist,Estat))"
   ]
  },
  {
   "cell_type": "markdown",
   "metadata": {},
   "source": [
    "Ahora comenzamos el calculo:"
   ]
  },
  {
   "cell_type": "code",
   "execution_count": 141,
   "metadata": {},
   "outputs": [
    {
     "name": "stdout",
     "output_type": "stream",
     "text": [
      "El Chi-cuadredo es 155.829"
     ]
    }
   ],
   "source": [
    "#Calculamos al suma total para calcular las frecuencias relativas\n",
    "n <- sum(table(Dist,Estat))\n",
    "fi <- table(Dist)/n\n",
    "fj <- table(Estat)/n\n",
    "\n",
    "#Obtemos la tabla teorica suponiendo que no tenemos ninguna asociacion\n",
    "fij.teor <- n*fi%*%t(fj)\n",
    "\n",
    "#Luego tenemos la diferencia entre el valor real y valor teorico\n",
    "desviacions <- table(Dist,Estat) - fij.teor\n",
    "\n",
    "#Calcula los residuales \n",
    "resid <- desviacions/sqrt(fij.teor)\n",
    "\n",
    "#Y finalmente obtenemos el Chi Cuadrado\n",
    "\n",
    "chi_sqr<-sum(resid^2)\n",
    "cat(\"El Chi-cuadredo es\",chi_sqr)"
   ]
  },
  {
   "cell_type": "markdown",
   "metadata": {},
   "source": [
    "Y tambien contamos con dos funciones para obtener el resultado, incluido el p-value:"
   ]
  },
  {
   "cell_type": "code",
   "execution_count": 136,
   "metadata": {},
   "outputs": [
    {
     "name": "stderr",
     "output_type": "stream",
     "text": [
      "Warning message in chisq.test(Dist, Estat):\n",
      "\"Chi-squared approximation may be incorrect\""
     ]
    },
    {
     "data": {
      "text/plain": [
       "\n",
       "\tPearson's Chi-squared test\n",
       "\n",
       "data:  Dist and Estat\n",
       "X-squared = 155.83, df = 36, p-value < 2.2e-16\n"
      ]
     },
     "metadata": {},
     "output_type": "display_data"
    },
    {
     "data": {
      "text/plain": [
       "Number of cases in table: 2254 \n",
       "Number of factors: 2 \n",
       "Test for independence of all factors:\n",
       "\tChisq = 155.83, df = 36, p-value = 7.475e-17\n",
       "\tChi-squared approximation may be incorrect"
      ]
     },
     "metadata": {},
     "output_type": "display_data"
    }
   ],
   "source": [
    "#Con chisq.test\n",
    "chisq.test(Dist,Estat)"
   ]
  },
  {
   "cell_type": "code",
   "execution_count": 142,
   "metadata": {},
   "outputs": [
    {
     "data": {
      "text/plain": [
       "Number of cases in table: 2254 \n",
       "Number of factors: 2 \n",
       "Test for independence of all factors:\n",
       "\tChisq = 155.83, df = 36, p-value = 7.475e-17\n",
       "\tChi-squared approximation may be incorrect"
      ]
     },
     "metadata": {},
     "output_type": "display_data"
    }
   ],
   "source": [
    "#Con summary\n",
    "summary(table(Dist,Estat))"
   ]
  },
  {
   "cell_type": "markdown",
   "metadata": {},
   "source": [
    "Pero observamos que tenemos un valor aproximado al valor que obtenemos manualmente.\n",
    "Finalmente, se determina que son dependientes."
   ]
  }
 ],
 "metadata": {
  "kernelspec": {
   "display_name": "R",
   "language": "R",
   "name": "ir"
  },
  "language_info": {
   "codemirror_mode": "r",
   "file_extension": ".r",
   "mimetype": "text/x-r-source",
   "name": "R",
   "pygments_lexer": "r",
   "version": "3.6.1"
  }
 },
 "nbformat": 4,
 "nbformat_minor": 2
}
