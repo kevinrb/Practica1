{
  "cells": [
    {
      "metadata": {},
      "cell_type": "markdown",
      "source": "### Exercise 1\nPrimero creamos la variable ***vc*** y validamos que sean enteros:"
    },
    {
      "metadata": {
        "trusted": true
      },
      "cell_type": "code",
      "source": "vc<-c(1:20)\nvc\ntypeof(vc[1])",
      "execution_count": 1,
      "outputs": [
        {
          "output_type": "display_data",
          "data": {
            "text/plain": " [1]  1  2  3  4  5  6  7  8  9 10 11 12 13 14 15 16 17 18 19 20",
            "text/latex": "\\begin{enumerate*}\n\\item 1\n\\item 2\n\\item 3\n\\item 4\n\\item 5\n\\item 6\n\\item 7\n\\item 8\n\\item 9\n\\item 10\n\\item 11\n\\item 12\n\\item 13\n\\item 14\n\\item 15\n\\item 16\n\\item 17\n\\item 18\n\\item 19\n\\item 20\n\\end{enumerate*}\n",
            "text/markdown": "1. 1\n2. 2\n3. 3\n4. 4\n5. 5\n6. 6\n7. 7\n8. 8\n9. 9\n10. 10\n11. 11\n12. 12\n13. 13\n14. 14\n15. 15\n16. 16\n17. 17\n18. 18\n19. 19\n20. 20\n\n\n",
            "text/html": "<ol class=list-inline>\n\t<li>1</li>\n\t<li>2</li>\n\t<li>3</li>\n\t<li>4</li>\n\t<li>5</li>\n\t<li>6</li>\n\t<li>7</li>\n\t<li>8</li>\n\t<li>9</li>\n\t<li>10</li>\n\t<li>11</li>\n\t<li>12</li>\n\t<li>13</li>\n\t<li>14</li>\n\t<li>15</li>\n\t<li>16</li>\n\t<li>17</li>\n\t<li>18</li>\n\t<li>19</li>\n\t<li>20</li>\n</ol>\n"
          },
          "metadata": {}
        },
        {
          "output_type": "display_data",
          "data": {
            "text/plain": "[1] \"integer\"",
            "text/latex": "'integer'",
            "text/markdown": "'integer'",
            "text/html": "'integer'"
          },
          "metadata": {}
        }
      ]
    },
    {
      "metadata": {},
      "cell_type": "markdown",
      "source": "Luego creamos la variable  ***temp*** para almacenar el valor de la posicion 2, asignamos el valor de la posicion 20 al 2 y el valor guardado en ***temp*** lo asignamos a la posicion 20. Y asi logramos el cambio."
    },
    {
      "metadata": {
        "trusted": false
      },
      "cell_type": "code",
      "source": "temp<-vc[2]\nvc[2]<-vc[20]\nvc[20]<-temp\nvc",
      "execution_count": 15,
      "outputs": [
        {
          "data": {
            "text/html": "<ol class=list-inline>\n\t<li>1</li>\n\t<li>20</li>\n\t<li>3</li>\n\t<li>4</li>\n\t<li>5</li>\n\t<li>6</li>\n\t<li>7</li>\n\t<li>8</li>\n\t<li>9</li>\n\t<li>10</li>\n\t<li>11</li>\n\t<li>12</li>\n\t<li>13</li>\n\t<li>14</li>\n\t<li>15</li>\n\t<li>16</li>\n\t<li>17</li>\n\t<li>18</li>\n\t<li>19</li>\n\t<li>2</li>\n</ol>\n",
            "text/latex": "\\begin{enumerate*}\n\\item 1\n\\item 20\n\\item 3\n\\item 4\n\\item 5\n\\item 6\n\\item 7\n\\item 8\n\\item 9\n\\item 10\n\\item 11\n\\item 12\n\\item 13\n\\item 14\n\\item 15\n\\item 16\n\\item 17\n\\item 18\n\\item 19\n\\item 2\n\\end{enumerate*}\n",
            "text/markdown": "1. 1\n2. 20\n3. 3\n4. 4\n5. 5\n6. 6\n7. 7\n8. 8\n9. 9\n10. 10\n11. 11\n12. 12\n13. 13\n14. 14\n15. 15\n16. 16\n17. 17\n18. 18\n19. 19\n20. 2\n\n\n",
            "text/plain": " [1]  1 20  3  4  5  6  7  8  9 10 11 12 13 14 15 16 17 18 19  2"
          },
          "metadata": {},
          "output_type": "display_data"
        }
      ]
    },
    {
      "metadata": {},
      "cell_type": "markdown",
      "source": "### Exercise 2\nCreamos la secuencia indicada en ***sqc***:"
    },
    {
      "metadata": {
        "trusted": true,
        "scrolled": true
      },
      "cell_type": "code",
      "source": "sqc<-rep(c(1,2,3,NA),5)\nsqc",
      "execution_count": 24,
      "outputs": [
        {
          "output_type": "display_data",
          "data": {
            "text/plain": " [1]  1  2  3 NA  1  2  3 NA  1  2  3 NA  1  2  3 NA  1  2  3 NA",
            "text/latex": "\\begin{enumerate*}\n\\item 1\n\\item 2\n\\item 3\n\\item <NA>\n\\item 1\n\\item 2\n\\item 3\n\\item <NA>\n\\item 1\n\\item 2\n\\item 3\n\\item <NA>\n\\item 1\n\\item 2\n\\item 3\n\\item <NA>\n\\item 1\n\\item 2\n\\item 3\n\\item <NA>\n\\end{enumerate*}\n",
            "text/markdown": "1. 1\n2. 2\n3. 3\n4. &lt;NA&gt;\n5. 1\n6. 2\n7. 3\n8. &lt;NA&gt;\n9. 1\n10. 2\n11. 3\n12. &lt;NA&gt;\n13. 1\n14. 2\n15. 3\n16. &lt;NA&gt;\n17. 1\n18. 2\n19. 3\n20. &lt;NA&gt;\n\n\n",
            "text/html": "<ol class=list-inline>\n\t<li>1</li>\n\t<li>2</li>\n\t<li>3</li>\n\t<li>&lt;NA&gt;</li>\n\t<li>1</li>\n\t<li>2</li>\n\t<li>3</li>\n\t<li>&lt;NA&gt;</li>\n\t<li>1</li>\n\t<li>2</li>\n\t<li>3</li>\n\t<li>&lt;NA&gt;</li>\n\t<li>1</li>\n\t<li>2</li>\n\t<li>3</li>\n\t<li>&lt;NA&gt;</li>\n\t<li>1</li>\n\t<li>2</li>\n\t<li>3</li>\n\t<li>&lt;NA&gt;</li>\n</ol>\n"
          },
          "metadata": {}
        }
      ]
    },
    {
      "metadata": {},
      "cell_type": "markdown",
      "source": "Obtenemos la media con la funcion ***mean*** y activamos su atributo ***na.rm*** para no considerar los NA:"
    },
    {
      "metadata": {
        "trusted": true
      },
      "cell_type": "code",
      "source": "mean(sqc,na.rm=TRUE)",
      "execution_count": 26,
      "outputs": [
        {
          "output_type": "display_data",
          "data": {
            "text/plain": "[1] 2",
            "text/latex": "2",
            "text/markdown": "2",
            "text/html": "2"
          },
          "metadata": {}
        }
      ]
    },
    {
      "metadata": {},
      "cell_type": "markdown",
      "source": "Y para realizar el reemplazo usamos la funcion ***is.an*** para detectar los valores NA y reemplazarlos con la media"
    },
    {
      "metadata": {
        "trusted": true
      },
      "cell_type": "code",
      "source": "sqc[is.na(sqc)]<-mean(sqc,na.rm=TRUE)\nsqc",
      "execution_count": 28,
      "outputs": [
        {
          "output_type": "display_data",
          "data": {
            "text/plain": " [1] 1 2 3 2 1 2 3 2 1 2 3 2 1 2 3 2 1 2 3 2",
            "text/latex": "\\begin{enumerate*}\n\\item 1\n\\item 2\n\\item 3\n\\item 2\n\\item 1\n\\item 2\n\\item 3\n\\item 2\n\\item 1\n\\item 2\n\\item 3\n\\item 2\n\\item 1\n\\item 2\n\\item 3\n\\item 2\n\\item 1\n\\item 2\n\\item 3\n\\item 2\n\\end{enumerate*}\n",
            "text/markdown": "1. 1\n2. 2\n3. 3\n4. 2\n5. 1\n6. 2\n7. 3\n8. 2\n9. 1\n10. 2\n11. 3\n12. 2\n13. 1\n14. 2\n15. 3\n16. 2\n17. 1\n18. 2\n19. 3\n20. 2\n\n\n",
            "text/html": "<ol class=list-inline>\n\t<li>1</li>\n\t<li>2</li>\n\t<li>3</li>\n\t<li>2</li>\n\t<li>1</li>\n\t<li>2</li>\n\t<li>3</li>\n\t<li>2</li>\n\t<li>1</li>\n\t<li>2</li>\n\t<li>3</li>\n\t<li>2</li>\n\t<li>1</li>\n\t<li>2</li>\n\t<li>3</li>\n\t<li>2</li>\n\t<li>1</li>\n\t<li>2</li>\n\t<li>3</li>\n\t<li>2</li>\n</ol>\n"
          },
          "metadata": {}
        }
      ]
    },
    {
      "metadata": {},
      "cell_type": "markdown",
      "source": "### Exercise 3\nCreamos el data.frame ***df*** como se indica en el enunciado :"
    },
    {
      "metadata": {
        "trusted": true
      },
      "cell_type": "code",
      "source": "df <- data.frame(\"Age\"=c(22, 25, 18, 20),\"Name\"=c(\"James\",\"Mathew\",\"Olivia\",\"Stella\"),\"Gender\"=c(\"M\", \"M\", \"F\", \"F\"))\ndf",
      "execution_count": 2,
      "outputs": [
        {
          "output_type": "display_data",
          "data": {
            "text/plain": "  Age Name   Gender\n1 22  James  M     \n2 25  Mathew M     \n3 18  Olivia F     \n4 20  Stella F     ",
            "text/latex": "A data.frame: 4 x 3\n\\begin{tabular}{r|lll}\n Age & Name & Gender\\\\\n <dbl> & <fct> & <fct>\\\\\n\\hline\n\t 22 & James  & M\\\\\n\t 25 & Mathew & M\\\\\n\t 18 & Olivia & F\\\\\n\t 20 & Stella & F\\\\\n\\end{tabular}\n",
            "text/markdown": "\nA data.frame: 4 x 3\n\n| Age &lt;dbl&gt; | Name &lt;fct&gt; | Gender &lt;fct&gt; |\n|---|---|---|\n| 22 | James  | M |\n| 25 | Mathew | M |\n| 18 | Olivia | F |\n| 20 | Stella | F |\n\n",
            "text/html": "<table>\n<caption>A data.frame: 4 x 3</caption>\n<thead>\n\t<tr><th scope=col>Age</th><th scope=col>Name</th><th scope=col>Gender</th></tr>\n\t<tr><th scope=col>&lt;dbl&gt;</th><th scope=col>&lt;fct&gt;</th><th scope=col>&lt;fct&gt;</th></tr>\n</thead>\n<tbody>\n\t<tr><td>22</td><td>James </td><td>M</td></tr>\n\t<tr><td>25</td><td>Mathew</td><td>M</td></tr>\n\t<tr><td>18</td><td>Olivia</td><td>F</td></tr>\n\t<tr><td>20</td><td>Stella</td><td>F</td></tr>\n</tbody>\n</table>\n"
          },
          "metadata": {}
        }
      ]
    },
    {
      "metadata": {},
      "cell_type": "markdown",
      "source": "### Exercise 4\nSeleccionamos todos los registros mayores y iguales a 21 años como se indica en el enunciado:"
    },
    {
      "metadata": {
        "trusted": true
      },
      "cell_type": "code",
      "source": "df[df$Age>=21,]",
      "execution_count": 48,
      "outputs": [
        {
          "output_type": "display_data",
          "data": {
            "text/plain": "  Age Name   Gender\n1 22  James  M     \n2 25  Mathew M     ",
            "text/latex": "A data.frame: 2 x 3\n\\begin{tabular}{r|lll}\n Age & Name & Gender\\\\\n <dbl> & <fct> & <chr>\\\\\n\\hline\n\t 22 & James  & M\\\\\n\t 25 & Mathew & M\\\\\n\\end{tabular}\n",
            "text/markdown": "\nA data.frame: 2 x 3\n\n| Age &lt;dbl&gt; | Name &lt;fct&gt; | Gender &lt;chr&gt; |\n|---|---|---|\n| 22 | James  | M |\n| 25 | Mathew | M |\n\n",
            "text/html": "<table>\n<caption>A data.frame: 2 x 3</caption>\n<thead>\n\t<tr><th scope=col>Age</th><th scope=col>Name</th><th scope=col>Gender</th></tr>\n\t<tr><th scope=col>&lt;dbl&gt;</th><th scope=col>&lt;fct&gt;</th><th scope=col>&lt;chr&gt;</th></tr>\n</thead>\n<tbody>\n\t<tr><td>22</td><td>James </td><td>M</td></tr>\n\t<tr><td>25</td><td>Mathew</td><td>M</td></tr>\n</tbody>\n</table>\n"
          },
          "metadata": {}
        }
      ]
    },
    {
      "metadata": {},
      "cell_type": "markdown",
      "source": "### Exercise 5\nPrimero agregamos la nueva columna ***adult*** con el valor FALSE:"
    },
    {
      "metadata": {
        "trusted": true
      },
      "cell_type": "code",
      "source": "df[,\"adult\"]<-c(FALSE)\ndf",
      "execution_count": 52,
      "outputs": [
        {
          "output_type": "display_data",
          "data": {
            "text/plain": "  Age Name   Gender adult\n1 22  James  M      FALSE\n2 25  Mathew M      FALSE\n3 18  Olivia F      FALSE\n4 20  Stella F      FALSE",
            "text/latex": "A data.frame: 4 x 4\n\\begin{tabular}{r|llll}\n Age & Name & Gender & adult\\\\\n <dbl> & <fct> & <fct> & <lgl>\\\\\n\\hline\n\t 22 & James  & M & FALSE\\\\\n\t 25 & Mathew & M & FALSE\\\\\n\t 18 & Olivia & F & FALSE\\\\\n\t 20 & Stella & F & FALSE\\\\\n\\end{tabular}\n",
            "text/markdown": "\nA data.frame: 4 x 4\n\n| Age &lt;dbl&gt; | Name &lt;fct&gt; | Gender &lt;fct&gt; | adult &lt;lgl&gt; |\n|---|---|---|---|\n| 22 | James  | M | FALSE |\n| 25 | Mathew | M | FALSE |\n| 18 | Olivia | F | FALSE |\n| 20 | Stella | F | FALSE |\n\n",
            "text/html": "<table>\n<caption>A data.frame: 4 x 4</caption>\n<thead>\n\t<tr><th scope=col>Age</th><th scope=col>Name</th><th scope=col>Gender</th><th scope=col>adult</th></tr>\n\t<tr><th scope=col>&lt;dbl&gt;</th><th scope=col>&lt;fct&gt;</th><th scope=col>&lt;fct&gt;</th><th scope=col>&lt;lgl&gt;</th></tr>\n</thead>\n<tbody>\n\t<tr><td>22</td><td>James </td><td>M</td><td>FALSE</td></tr>\n\t<tr><td>25</td><td>Mathew</td><td>M</td><td>FALSE</td></tr>\n\t<tr><td>18</td><td>Olivia</td><td>F</td><td>FALSE</td></tr>\n\t<tr><td>20</td><td>Stella</td><td>F</td><td>FALSE</td></tr>\n</tbody>\n</table>\n"
          },
          "metadata": {}
        }
      ]
    },
    {
      "metadata": {},
      "cell_type": "markdown",
      "source": "Luego, filtramos como hicimos en el ejercicio anteiror para poder cambiar el valor a TRUE:"
    },
    {
      "metadata": {
        "trusted": true
      },
      "cell_type": "code",
      "source": "df[df$Age>=21,]$adult<-TRUE\ndf",
      "execution_count": 59,
      "outputs": [
        {
          "output_type": "display_data",
          "data": {
            "text/plain": "  Age Name   Gender adult\n1 22  James  M       TRUE\n2 25  Mathew M       TRUE\n3 18  Olivia F      FALSE\n4 20  Stella F      FALSE",
            "text/latex": "A data.frame: 4 x 4\n\\begin{tabular}{r|llll}\n Age & Name & Gender & adult\\\\\n <dbl> & <fct> & <fct> & <lgl>\\\\\n\\hline\n\t 22 & James  & M &  TRUE\\\\\n\t 25 & Mathew & M &  TRUE\\\\\n\t 18 & Olivia & F & FALSE\\\\\n\t 20 & Stella & F & FALSE\\\\\n\\end{tabular}\n",
            "text/markdown": "\nA data.frame: 4 x 4\n\n| Age &lt;dbl&gt; | Name &lt;fct&gt; | Gender &lt;fct&gt; | adult &lt;lgl&gt; |\n|---|---|---|---|\n| 22 | James  | M |  TRUE |\n| 25 | Mathew | M |  TRUE |\n| 18 | Olivia | F | FALSE |\n| 20 | Stella | F | FALSE |\n\n",
            "text/html": "<table>\n<caption>A data.frame: 4 x 4</caption>\n<thead>\n\t<tr><th scope=col>Age</th><th scope=col>Name</th><th scope=col>Gender</th><th scope=col>adult</th></tr>\n\t<tr><th scope=col>&lt;dbl&gt;</th><th scope=col>&lt;fct&gt;</th><th scope=col>&lt;fct&gt;</th><th scope=col>&lt;lgl&gt;</th></tr>\n</thead>\n<tbody>\n\t<tr><td>22</td><td>James </td><td>M</td><td> TRUE</td></tr>\n\t<tr><td>25</td><td>Mathew</td><td>M</td><td> TRUE</td></tr>\n\t<tr><td>18</td><td>Olivia</td><td>F</td><td>FALSE</td></tr>\n\t<tr><td>20</td><td>Stella</td><td>F</td><td>FALSE</td></tr>\n</tbody>\n</table>\n"
          },
          "metadata": {}
        }
      ]
    },
    {
      "metadata": {
        "trusted": true
      },
      "cell_type": "markdown",
      "source": "### Exercise 6\nObservamos que el dataset ***iris*** tiene 5 columnas de los cuales 4 son numericas y la ultima es un factor:"
    },
    {
      "metadata": {
        "trusted": true
      },
      "cell_type": "code",
      "source": "iris[1:4,]",
      "execution_count": 45,
      "outputs": [
        {
          "output_type": "display_data",
          "data": {
            "text/plain": "  Sepal.Length Sepal.Width Petal.Length Petal.Width Species\n1 5.1          3.5         1.4          0.2         setosa \n2 4.9          3.0         1.4          0.2         setosa \n3 4.7          3.2         1.3          0.2         setosa \n4 4.6          3.1         1.5          0.2         setosa ",
            "text/latex": "A data.frame: 4 x 5\n\\begin{tabular}{r|lllll}\n Sepal.Length & Sepal.Width & Petal.Length & Petal.Width & Species\\\\\n <dbl> & <dbl> & <dbl> & <dbl> & <fct>\\\\\n\\hline\n\t 5.1 & 3.5 & 1.4 & 0.2 & setosa\\\\\n\t 4.9 & 3.0 & 1.4 & 0.2 & setosa\\\\\n\t 4.7 & 3.2 & 1.3 & 0.2 & setosa\\\\\n\t 4.6 & 3.1 & 1.5 & 0.2 & setosa\\\\\n\\end{tabular}\n",
            "text/markdown": "\nA data.frame: 4 x 5\n\n| Sepal.Length &lt;dbl&gt; | Sepal.Width &lt;dbl&gt; | Petal.Length &lt;dbl&gt; | Petal.Width &lt;dbl&gt; | Species &lt;fct&gt; |\n|---|---|---|---|---|\n| 5.1 | 3.5 | 1.4 | 0.2 | setosa |\n| 4.9 | 3.0 | 1.4 | 0.2 | setosa |\n| 4.7 | 3.2 | 1.3 | 0.2 | setosa |\n| 4.6 | 3.1 | 1.5 | 0.2 | setosa |\n\n",
            "text/html": "<table>\n<caption>A data.frame: 4 x 5</caption>\n<thead>\n\t<tr><th scope=col>Sepal.Length</th><th scope=col>Sepal.Width</th><th scope=col>Petal.Length</th><th scope=col>Petal.Width</th><th scope=col>Species</th></tr>\n\t<tr><th scope=col>&lt;dbl&gt;</th><th scope=col>&lt;dbl&gt;</th><th scope=col>&lt;dbl&gt;</th><th scope=col>&lt;dbl&gt;</th><th scope=col>&lt;fct&gt;</th></tr>\n</thead>\n<tbody>\n\t<tr><td>5.1</td><td>3.5</td><td>1.4</td><td>0.2</td><td>setosa</td></tr>\n\t<tr><td>4.9</td><td>3.0</td><td>1.4</td><td>0.2</td><td>setosa</td></tr>\n\t<tr><td>4.7</td><td>3.2</td><td>1.3</td><td>0.2</td><td>setosa</td></tr>\n\t<tr><td>4.6</td><td>3.1</td><td>1.5</td><td>0.2</td><td>setosa</td></tr>\n</tbody>\n</table>\n"
          },
          "metadata": {}
        }
      ]
    },
    {
      "metadata": {},
      "cell_type": "markdown",
      "source": "Como se menciona en el enunciado excluimos la columna Species y creamos ***irismd*** donde solo contenga los datos requeridos"
    },
    {
      "metadata": {
        "trusted": true
      },
      "cell_type": "code",
      "source": "irismd<-iris[1:4]\nirismd[1:4,]",
      "execution_count": 2,
      "outputs": [
        {
          "output_type": "display_data",
          "data": {
            "text/plain": "  Sepal.Length Sepal.Width Petal.Length Petal.Width\n1 5.1          3.5         1.4          0.2        \n2 4.9          3.0         1.4          0.2        \n3 4.7          3.2         1.3          0.2        \n4 4.6          3.1         1.5          0.2        ",
            "text/latex": "A data.frame: 4 x 4\n\\begin{tabular}{r|llll}\n Sepal.Length & Sepal.Width & Petal.Length & Petal.Width\\\\\n <dbl> & <dbl> & <dbl> & <dbl>\\\\\n\\hline\n\t 5.1 & 3.5 & 1.4 & 0.2\\\\\n\t 4.9 & 3.0 & 1.4 & 0.2\\\\\n\t 4.7 & 3.2 & 1.3 & 0.2\\\\\n\t 4.6 & 3.1 & 1.5 & 0.2\\\\\n\\end{tabular}\n",
            "text/markdown": "\nA data.frame: 4 x 4\n\n| Sepal.Length &lt;dbl&gt; | Sepal.Width &lt;dbl&gt; | Petal.Length &lt;dbl&gt; | Petal.Width &lt;dbl&gt; |\n|---|---|---|---|\n| 5.1 | 3.5 | 1.4 | 0.2 |\n| 4.9 | 3.0 | 1.4 | 0.2 |\n| 4.7 | 3.2 | 1.3 | 0.2 |\n| 4.6 | 3.1 | 1.5 | 0.2 |\n\n",
            "text/html": "<table>\n<caption>A data.frame: 4 x 4</caption>\n<thead>\n\t<tr><th scope=col>Sepal.Length</th><th scope=col>Sepal.Width</th><th scope=col>Petal.Length</th><th scope=col>Petal.Width</th></tr>\n\t<tr><th scope=col>&lt;dbl&gt;</th><th scope=col>&lt;dbl&gt;</th><th scope=col>&lt;dbl&gt;</th><th scope=col>&lt;dbl&gt;</th></tr>\n</thead>\n<tbody>\n\t<tr><td>5.1</td><td>3.5</td><td>1.4</td><td>0.2</td></tr>\n\t<tr><td>4.9</td><td>3.0</td><td>1.4</td><td>0.2</td></tr>\n\t<tr><td>4.7</td><td>3.2</td><td>1.3</td><td>0.2</td></tr>\n\t<tr><td>4.6</td><td>3.1</td><td>1.5</td><td>0.2</td></tr>\n</tbody>\n</table>\n"
          },
          "metadata": {}
        }
      ]
    },
    {
      "metadata": {},
      "cell_type": "markdown",
      "source": "Ahora usando ***apply*** con el atributo *Margin=1* para recorrer las filas con la funcion ***mean*** y asi tener la media de cada fila:"
    },
    {
      "metadata": {
        "trusted": true,
        "scrolled": true
      },
      "cell_type": "code",
      "source": "apply(irismd,1,mean)",
      "execution_count": 54,
      "outputs": [
        {
          "output_type": "display_data",
          "data": {
            "text/plain": "  [1] 2.550 2.375 2.350 2.350 2.550 2.850 2.425 2.525 2.225 2.400 2.700 2.500\n [13] 2.325 2.125 2.800 3.000 2.750 2.575 2.875 2.675 2.675 2.675 2.350 2.650\n [25] 2.575 2.450 2.600 2.600 2.550 2.425 2.425 2.675 2.725 2.825 2.425 2.400\n [37] 2.625 2.500 2.225 2.550 2.525 2.100 2.275 2.675 2.800 2.375 2.675 2.350\n [49] 2.675 2.475 4.075 3.900 4.100 3.275 3.850 3.575 3.975 2.900 3.850 3.300\n [61] 2.875 3.650 3.300 3.775 3.350 3.900 3.650 3.400 3.600 3.275 3.925 3.550\n [73] 3.800 3.700 3.725 3.850 3.950 4.100 3.725 3.200 3.200 3.150 3.400 3.850\n [85] 3.600 3.875 4.000 3.575 3.500 3.325 3.425 3.775 3.400 2.900 3.450 3.525\n [97] 3.525 3.675 2.925 3.475 4.525 3.875 4.525 4.150 4.375 4.825 3.400 4.575\n[109] 4.200 4.850 4.200 4.075 4.350 3.800 4.025 4.300 4.200 5.100 4.875 3.675\n[121] 4.525 3.825 4.800 3.925 4.450 4.550 3.900 3.950 4.225 4.400 4.550 5.025\n[133] 4.250 3.925 3.925 4.775 4.425 4.200 3.900 4.375 4.450 4.350 3.875 4.550\n[145] 4.550 4.300 3.925 4.175 4.325 3.950",
            "text/latex": "\\begin{enumerate*}\n\\item 2.55\n\\item 2.375\n\\item 2.35\n\\item 2.35\n\\item 2.55\n\\item 2.85\n\\item 2.425\n\\item 2.525\n\\item 2.225\n\\item 2.4\n\\item 2.7\n\\item 2.5\n\\item 2.325\n\\item 2.125\n\\item 2.8\n\\item 3\n\\item 2.75\n\\item 2.575\n\\item 2.875\n\\item 2.675\n\\item 2.675\n\\item 2.675\n\\item 2.35\n\\item 2.65\n\\item 2.575\n\\item 2.45\n\\item 2.6\n\\item 2.6\n\\item 2.55\n\\item 2.425\n\\item 2.425\n\\item 2.675\n\\item 2.725\n\\item 2.825\n\\item 2.425\n\\item 2.4\n\\item 2.625\n\\item 2.5\n\\item 2.225\n\\item 2.55\n\\item 2.525\n\\item 2.1\n\\item 2.275\n\\item 2.675\n\\item 2.8\n\\item 2.375\n\\item 2.675\n\\item 2.35\n\\item 2.675\n\\item 2.475\n\\item 4.075\n\\item 3.9\n\\item 4.1\n\\item 3.275\n\\item 3.85\n\\item 3.575\n\\item 3.975\n\\item 2.9\n\\item 3.85\n\\item 3.3\n\\item 2.875\n\\item 3.65\n\\item 3.3\n\\item 3.775\n\\item 3.35\n\\item 3.9\n\\item 3.65\n\\item 3.4\n\\item 3.6\n\\item 3.275\n\\item 3.925\n\\item 3.55\n\\item 3.8\n\\item 3.7\n\\item 3.725\n\\item 3.85\n\\item 3.95\n\\item 4.1\n\\item 3.725\n\\item 3.2\n\\item 3.2\n\\item 3.15\n\\item 3.4\n\\item 3.85\n\\item 3.6\n\\item 3.875\n\\item 4\n\\item 3.575\n\\item 3.5\n\\item 3.325\n\\item 3.425\n\\item 3.775\n\\item 3.4\n\\item 2.9\n\\item 3.45\n\\item 3.525\n\\item 3.525\n\\item 3.675\n\\item 2.925\n\\item 3.475\n\\item 4.525\n\\item 3.875\n\\item 4.525\n\\item 4.15\n\\item 4.375\n\\item 4.825\n\\item 3.4\n\\item 4.575\n\\item 4.2\n\\item 4.85\n\\item 4.2\n\\item 4.075\n\\item 4.35\n\\item 3.8\n\\item 4.025\n\\item 4.3\n\\item 4.2\n\\item 5.1\n\\item 4.875\n\\item 3.675\n\\item 4.525\n\\item 3.825\n\\item 4.8\n\\item 3.925\n\\item 4.45\n\\item 4.55\n\\item 3.9\n\\item 3.95\n\\item 4.225\n\\item 4.4\n\\item 4.55\n\\item 5.025\n\\item 4.25\n\\item 3.925\n\\item 3.925\n\\item 4.775\n\\item 4.425\n\\item 4.2\n\\item 3.9\n\\item 4.375\n\\item 4.45\n\\item 4.35\n\\item 3.875\n\\item 4.55\n\\item 4.55\n\\item 4.3\n\\item 3.925\n\\item 4.175\n\\item 4.325\n\\item 3.95\n\\end{enumerate*}\n",
            "text/markdown": "1. 2.55\n2. 2.375\n3. 2.35\n4. 2.35\n5. 2.55\n6. 2.85\n7. 2.425\n8. 2.525\n9. 2.225\n10. 2.4\n11. 2.7\n12. 2.5\n13. 2.325\n14. 2.125\n15. 2.8\n16. 3\n17. 2.75\n18. 2.575\n19. 2.875\n20. 2.675\n21. 2.675\n22. 2.675\n23. 2.35\n24. 2.65\n25. 2.575\n26. 2.45\n27. 2.6\n28. 2.6\n29. 2.55\n30. 2.425\n31. 2.425\n32. 2.675\n33. 2.725\n34. 2.825\n35. 2.425\n36. 2.4\n37. 2.625\n38. 2.5\n39. 2.225\n40. 2.55\n41. 2.525\n42. 2.1\n43. 2.275\n44. 2.675\n45. 2.8\n46. 2.375\n47. 2.675\n48. 2.35\n49. 2.675\n50. 2.475\n51. 4.075\n52. 3.9\n53. 4.1\n54. 3.275\n55. 3.85\n56. 3.575\n57. 3.975\n58. 2.9\n59. 3.85\n60. 3.3\n61. 2.875\n62. 3.65\n63. 3.3\n64. 3.775\n65. 3.35\n66. 3.9\n67. 3.65\n68. 3.4\n69. 3.6\n70. 3.275\n71. 3.925\n72. 3.55\n73. 3.8\n74. 3.7\n75. 3.725\n76. 3.85\n77. 3.95\n78. 4.1\n79. 3.725\n80. 3.2\n81. 3.2\n82. 3.15\n83. 3.4\n84. 3.85\n85. 3.6\n86. 3.875\n87. 4\n88. 3.575\n89. 3.5\n90. 3.325\n91. 3.425\n92. 3.775\n93. 3.4\n94. 2.9\n95. 3.45\n96. 3.525\n97. 3.525\n98. 3.675\n99. 2.925\n100. 3.475\n101. 4.525\n102. 3.875\n103. 4.525\n104. 4.15\n105. 4.375\n106. 4.825\n107. 3.4\n108. 4.575\n109. 4.2\n110. 4.85\n111. 4.2\n112. 4.075\n113. 4.35\n114. 3.8\n115. 4.025\n116. 4.3\n117. 4.2\n118. 5.1\n119. 4.875\n120. 3.675\n121. 4.525\n122. 3.825\n123. 4.8\n124. 3.925\n125. 4.45\n126. 4.55\n127. 3.9\n128. 3.95\n129. 4.225\n130. 4.4\n131. 4.55\n132. 5.025\n133. 4.25\n134. 3.925\n135. 3.925\n136. 4.775\n137. 4.425\n138. 4.2\n139. 3.9\n140. 4.375\n141. 4.45\n142. 4.35\n143. 3.875\n144. 4.55\n145. 4.55\n146. 4.3\n147. 3.925\n148. 4.175\n149. 4.325\n150. 3.95\n\n\n",
            "text/html": "<ol class=list-inline>\n\t<li>2.55</li>\n\t<li>2.375</li>\n\t<li>2.35</li>\n\t<li>2.35</li>\n\t<li>2.55</li>\n\t<li>2.85</li>\n\t<li>2.425</li>\n\t<li>2.525</li>\n\t<li>2.225</li>\n\t<li>2.4</li>\n\t<li>2.7</li>\n\t<li>2.5</li>\n\t<li>2.325</li>\n\t<li>2.125</li>\n\t<li>2.8</li>\n\t<li>3</li>\n\t<li>2.75</li>\n\t<li>2.575</li>\n\t<li>2.875</li>\n\t<li>2.675</li>\n\t<li>2.675</li>\n\t<li>2.675</li>\n\t<li>2.35</li>\n\t<li>2.65</li>\n\t<li>2.575</li>\n\t<li>2.45</li>\n\t<li>2.6</li>\n\t<li>2.6</li>\n\t<li>2.55</li>\n\t<li>2.425</li>\n\t<li>2.425</li>\n\t<li>2.675</li>\n\t<li>2.725</li>\n\t<li>2.825</li>\n\t<li>2.425</li>\n\t<li>2.4</li>\n\t<li>2.625</li>\n\t<li>2.5</li>\n\t<li>2.225</li>\n\t<li>2.55</li>\n\t<li>2.525</li>\n\t<li>2.1</li>\n\t<li>2.275</li>\n\t<li>2.675</li>\n\t<li>2.8</li>\n\t<li>2.375</li>\n\t<li>2.675</li>\n\t<li>2.35</li>\n\t<li>2.675</li>\n\t<li>2.475</li>\n\t<li>4.075</li>\n\t<li>3.9</li>\n\t<li>4.1</li>\n\t<li>3.275</li>\n\t<li>3.85</li>\n\t<li>3.575</li>\n\t<li>3.975</li>\n\t<li>2.9</li>\n\t<li>3.85</li>\n\t<li>3.3</li>\n\t<li>2.875</li>\n\t<li>3.65</li>\n\t<li>3.3</li>\n\t<li>3.775</li>\n\t<li>3.35</li>\n\t<li>3.9</li>\n\t<li>3.65</li>\n\t<li>3.4</li>\n\t<li>3.6</li>\n\t<li>3.275</li>\n\t<li>3.925</li>\n\t<li>3.55</li>\n\t<li>3.8</li>\n\t<li>3.7</li>\n\t<li>3.725</li>\n\t<li>3.85</li>\n\t<li>3.95</li>\n\t<li>4.1</li>\n\t<li>3.725</li>\n\t<li>3.2</li>\n\t<li>3.2</li>\n\t<li>3.15</li>\n\t<li>3.4</li>\n\t<li>3.85</li>\n\t<li>3.6</li>\n\t<li>3.875</li>\n\t<li>4</li>\n\t<li>3.575</li>\n\t<li>3.5</li>\n\t<li>3.325</li>\n\t<li>3.425</li>\n\t<li>3.775</li>\n\t<li>3.4</li>\n\t<li>2.9</li>\n\t<li>3.45</li>\n\t<li>3.525</li>\n\t<li>3.525</li>\n\t<li>3.675</li>\n\t<li>2.925</li>\n\t<li>3.475</li>\n\t<li>4.525</li>\n\t<li>3.875</li>\n\t<li>4.525</li>\n\t<li>4.15</li>\n\t<li>4.375</li>\n\t<li>4.825</li>\n\t<li>3.4</li>\n\t<li>4.575</li>\n\t<li>4.2</li>\n\t<li>4.85</li>\n\t<li>4.2</li>\n\t<li>4.075</li>\n\t<li>4.35</li>\n\t<li>3.8</li>\n\t<li>4.025</li>\n\t<li>4.3</li>\n\t<li>4.2</li>\n\t<li>5.1</li>\n\t<li>4.875</li>\n\t<li>3.675</li>\n\t<li>4.525</li>\n\t<li>3.825</li>\n\t<li>4.8</li>\n\t<li>3.925</li>\n\t<li>4.45</li>\n\t<li>4.55</li>\n\t<li>3.9</li>\n\t<li>3.95</li>\n\t<li>4.225</li>\n\t<li>4.4</li>\n\t<li>4.55</li>\n\t<li>5.025</li>\n\t<li>4.25</li>\n\t<li>3.925</li>\n\t<li>3.925</li>\n\t<li>4.775</li>\n\t<li>4.425</li>\n\t<li>4.2</li>\n\t<li>3.9</li>\n\t<li>4.375</li>\n\t<li>4.45</li>\n\t<li>4.35</li>\n\t<li>3.875</li>\n\t<li>4.55</li>\n\t<li>4.55</li>\n\t<li>4.3</li>\n\t<li>3.925</li>\n\t<li>4.175</li>\n\t<li>4.325</li>\n\t<li>3.95</li>\n</ol>\n"
          },
          "metadata": {}
        }
      ]
    },
    {
      "metadata": {},
      "cell_type": "markdown",
      "source": "Ahora con el atributo *Margin=2* recorremos por columnas para determinar la media por cada columna:"
    },
    {
      "metadata": {
        "trusted": true
      },
      "cell_type": "code",
      "source": "apply(irismd,2,mean)",
      "execution_count": 57,
      "outputs": [
        {
          "output_type": "display_data",
          "data": {
            "text/plain": "Sepal.Length  Sepal.Width Petal.Length  Petal.Width \n    5.843333     3.057333     3.758000     1.199333 ",
            "text/latex": "\\begin{description*}\n\\item[Sepal.Length] 5.84333333333333\n\\item[Sepal.Width] 3.05733333333333\n\\item[Petal.Length] 3.758\n\\item[Petal.Width] 1.19933333333333\n\\end{description*}\n",
            "text/markdown": "Sepal.Length\n:   5.84333333333333Sepal.Width\n:   3.05733333333333Petal.Length\n:   3.758Petal.Width\n:   1.19933333333333\n\n",
            "text/html": "<dl class=dl-horizontal>\n\t<dt>Sepal.Length</dt>\n\t\t<dd>5.84333333333333</dd>\n\t<dt>Sepal.Width</dt>\n\t\t<dd>3.05733333333333</dd>\n\t<dt>Petal.Length</dt>\n\t\t<dd>3.758</dd>\n\t<dt>Petal.Width</dt>\n\t\t<dd>1.19933333333333</dd>\n</dl>\n"
          },
          "metadata": {}
        }
      ]
    },
    {
      "metadata": {},
      "cell_type": "markdown",
      "source": "Y finalmente probamos con las funciones especificas como rowMeans y colMeans. Con lo que obtenemos los mismos valores con ***apply***:"
    },
    {
      "metadata": {
        "trusted": true
      },
      "cell_type": "code",
      "source": "rowMeans(irismd)",
      "execution_count": 3,
      "outputs": [
        {
          "output_type": "display_data",
          "data": {
            "text/plain": "  [1] 2.550 2.375 2.350 2.350 2.550 2.850 2.425 2.525 2.225 2.400 2.700 2.500\n [13] 2.325 2.125 2.800 3.000 2.750 2.575 2.875 2.675 2.675 2.675 2.350 2.650\n [25] 2.575 2.450 2.600 2.600 2.550 2.425 2.425 2.675 2.725 2.825 2.425 2.400\n [37] 2.625 2.500 2.225 2.550 2.525 2.100 2.275 2.675 2.800 2.375 2.675 2.350\n [49] 2.675 2.475 4.075 3.900 4.100 3.275 3.850 3.575 3.975 2.900 3.850 3.300\n [61] 2.875 3.650 3.300 3.775 3.350 3.900 3.650 3.400 3.600 3.275 3.925 3.550\n [73] 3.800 3.700 3.725 3.850 3.950 4.100 3.725 3.200 3.200 3.150 3.400 3.850\n [85] 3.600 3.875 4.000 3.575 3.500 3.325 3.425 3.775 3.400 2.900 3.450 3.525\n [97] 3.525 3.675 2.925 3.475 4.525 3.875 4.525 4.150 4.375 4.825 3.400 4.575\n[109] 4.200 4.850 4.200 4.075 4.350 3.800 4.025 4.300 4.200 5.100 4.875 3.675\n[121] 4.525 3.825 4.800 3.925 4.450 4.550 3.900 3.950 4.225 4.400 4.550 5.025\n[133] 4.250 3.925 3.925 4.775 4.425 4.200 3.900 4.375 4.450 4.350 3.875 4.550\n[145] 4.550 4.300 3.925 4.175 4.325 3.950",
            "text/latex": "\\begin{enumerate*}\n\\item 2.55\n\\item 2.375\n\\item 2.35\n\\item 2.35\n\\item 2.55\n\\item 2.85\n\\item 2.425\n\\item 2.525\n\\item 2.225\n\\item 2.4\n\\item 2.7\n\\item 2.5\n\\item 2.325\n\\item 2.125\n\\item 2.8\n\\item 3\n\\item 2.75\n\\item 2.575\n\\item 2.875\n\\item 2.675\n\\item 2.675\n\\item 2.675\n\\item 2.35\n\\item 2.65\n\\item 2.575\n\\item 2.45\n\\item 2.6\n\\item 2.6\n\\item 2.55\n\\item 2.425\n\\item 2.425\n\\item 2.675\n\\item 2.725\n\\item 2.825\n\\item 2.425\n\\item 2.4\n\\item 2.625\n\\item 2.5\n\\item 2.225\n\\item 2.55\n\\item 2.525\n\\item 2.1\n\\item 2.275\n\\item 2.675\n\\item 2.8\n\\item 2.375\n\\item 2.675\n\\item 2.35\n\\item 2.675\n\\item 2.475\n\\item 4.075\n\\item 3.9\n\\item 4.1\n\\item 3.275\n\\item 3.85\n\\item 3.575\n\\item 3.975\n\\item 2.9\n\\item 3.85\n\\item 3.3\n\\item 2.875\n\\item 3.65\n\\item 3.3\n\\item 3.775\n\\item 3.35\n\\item 3.9\n\\item 3.65\n\\item 3.4\n\\item 3.6\n\\item 3.275\n\\item 3.925\n\\item 3.55\n\\item 3.8\n\\item 3.7\n\\item 3.725\n\\item 3.85\n\\item 3.95\n\\item 4.1\n\\item 3.725\n\\item 3.2\n\\item 3.2\n\\item 3.15\n\\item 3.4\n\\item 3.85\n\\item 3.6\n\\item 3.875\n\\item 4\n\\item 3.575\n\\item 3.5\n\\item 3.325\n\\item 3.425\n\\item 3.775\n\\item 3.4\n\\item 2.9\n\\item 3.45\n\\item 3.525\n\\item 3.525\n\\item 3.675\n\\item 2.925\n\\item 3.475\n\\item 4.525\n\\item 3.875\n\\item 4.525\n\\item 4.15\n\\item 4.375\n\\item 4.825\n\\item 3.4\n\\item 4.575\n\\item 4.2\n\\item 4.85\n\\item 4.2\n\\item 4.075\n\\item 4.35\n\\item 3.8\n\\item 4.025\n\\item 4.3\n\\item 4.2\n\\item 5.1\n\\item 4.875\n\\item 3.675\n\\item 4.525\n\\item 3.825\n\\item 4.8\n\\item 3.925\n\\item 4.45\n\\item 4.55\n\\item 3.9\n\\item 3.95\n\\item 4.225\n\\item 4.4\n\\item 4.55\n\\item 5.025\n\\item 4.25\n\\item 3.925\n\\item 3.925\n\\item 4.775\n\\item 4.425\n\\item 4.2\n\\item 3.9\n\\item 4.375\n\\item 4.45\n\\item 4.35\n\\item 3.875\n\\item 4.55\n\\item 4.55\n\\item 4.3\n\\item 3.925\n\\item 4.175\n\\item 4.325\n\\item 3.95\n\\end{enumerate*}\n",
            "text/markdown": "1. 2.55\n2. 2.375\n3. 2.35\n4. 2.35\n5. 2.55\n6. 2.85\n7. 2.425\n8. 2.525\n9. 2.225\n10. 2.4\n11. 2.7\n12. 2.5\n13. 2.325\n14. 2.125\n15. 2.8\n16. 3\n17. 2.75\n18. 2.575\n19. 2.875\n20. 2.675\n21. 2.675\n22. 2.675\n23. 2.35\n24. 2.65\n25. 2.575\n26. 2.45\n27. 2.6\n28. 2.6\n29. 2.55\n30. 2.425\n31. 2.425\n32. 2.675\n33. 2.725\n34. 2.825\n35. 2.425\n36. 2.4\n37. 2.625\n38. 2.5\n39. 2.225\n40. 2.55\n41. 2.525\n42. 2.1\n43. 2.275\n44. 2.675\n45. 2.8\n46. 2.375\n47. 2.675\n48. 2.35\n49. 2.675\n50. 2.475\n51. 4.075\n52. 3.9\n53. 4.1\n54. 3.275\n55. 3.85\n56. 3.575\n57. 3.975\n58. 2.9\n59. 3.85\n60. 3.3\n61. 2.875\n62. 3.65\n63. 3.3\n64. 3.775\n65. 3.35\n66. 3.9\n67. 3.65\n68. 3.4\n69. 3.6\n70. 3.275\n71. 3.925\n72. 3.55\n73. 3.8\n74. 3.7\n75. 3.725\n76. 3.85\n77. 3.95\n78. 4.1\n79. 3.725\n80. 3.2\n81. 3.2\n82. 3.15\n83. 3.4\n84. 3.85\n85. 3.6\n86. 3.875\n87. 4\n88. 3.575\n89. 3.5\n90. 3.325\n91. 3.425\n92. 3.775\n93. 3.4\n94. 2.9\n95. 3.45\n96. 3.525\n97. 3.525\n98. 3.675\n99. 2.925\n100. 3.475\n101. 4.525\n102. 3.875\n103. 4.525\n104. 4.15\n105. 4.375\n106. 4.825\n107. 3.4\n108. 4.575\n109. 4.2\n110. 4.85\n111. 4.2\n112. 4.075\n113. 4.35\n114. 3.8\n115. 4.025\n116. 4.3\n117. 4.2\n118. 5.1\n119. 4.875\n120. 3.675\n121. 4.525\n122. 3.825\n123. 4.8\n124. 3.925\n125. 4.45\n126. 4.55\n127. 3.9\n128. 3.95\n129. 4.225\n130. 4.4\n131. 4.55\n132. 5.025\n133. 4.25\n134. 3.925\n135. 3.925\n136. 4.775\n137. 4.425\n138. 4.2\n139. 3.9\n140. 4.375\n141. 4.45\n142. 4.35\n143. 3.875\n144. 4.55\n145. 4.55\n146. 4.3\n147. 3.925\n148. 4.175\n149. 4.325\n150. 3.95\n\n\n",
            "text/html": "<ol class=list-inline>\n\t<li>2.55</li>\n\t<li>2.375</li>\n\t<li>2.35</li>\n\t<li>2.35</li>\n\t<li>2.55</li>\n\t<li>2.85</li>\n\t<li>2.425</li>\n\t<li>2.525</li>\n\t<li>2.225</li>\n\t<li>2.4</li>\n\t<li>2.7</li>\n\t<li>2.5</li>\n\t<li>2.325</li>\n\t<li>2.125</li>\n\t<li>2.8</li>\n\t<li>3</li>\n\t<li>2.75</li>\n\t<li>2.575</li>\n\t<li>2.875</li>\n\t<li>2.675</li>\n\t<li>2.675</li>\n\t<li>2.675</li>\n\t<li>2.35</li>\n\t<li>2.65</li>\n\t<li>2.575</li>\n\t<li>2.45</li>\n\t<li>2.6</li>\n\t<li>2.6</li>\n\t<li>2.55</li>\n\t<li>2.425</li>\n\t<li>2.425</li>\n\t<li>2.675</li>\n\t<li>2.725</li>\n\t<li>2.825</li>\n\t<li>2.425</li>\n\t<li>2.4</li>\n\t<li>2.625</li>\n\t<li>2.5</li>\n\t<li>2.225</li>\n\t<li>2.55</li>\n\t<li>2.525</li>\n\t<li>2.1</li>\n\t<li>2.275</li>\n\t<li>2.675</li>\n\t<li>2.8</li>\n\t<li>2.375</li>\n\t<li>2.675</li>\n\t<li>2.35</li>\n\t<li>2.675</li>\n\t<li>2.475</li>\n\t<li>4.075</li>\n\t<li>3.9</li>\n\t<li>4.1</li>\n\t<li>3.275</li>\n\t<li>3.85</li>\n\t<li>3.575</li>\n\t<li>3.975</li>\n\t<li>2.9</li>\n\t<li>3.85</li>\n\t<li>3.3</li>\n\t<li>2.875</li>\n\t<li>3.65</li>\n\t<li>3.3</li>\n\t<li>3.775</li>\n\t<li>3.35</li>\n\t<li>3.9</li>\n\t<li>3.65</li>\n\t<li>3.4</li>\n\t<li>3.6</li>\n\t<li>3.275</li>\n\t<li>3.925</li>\n\t<li>3.55</li>\n\t<li>3.8</li>\n\t<li>3.7</li>\n\t<li>3.725</li>\n\t<li>3.85</li>\n\t<li>3.95</li>\n\t<li>4.1</li>\n\t<li>3.725</li>\n\t<li>3.2</li>\n\t<li>3.2</li>\n\t<li>3.15</li>\n\t<li>3.4</li>\n\t<li>3.85</li>\n\t<li>3.6</li>\n\t<li>3.875</li>\n\t<li>4</li>\n\t<li>3.575</li>\n\t<li>3.5</li>\n\t<li>3.325</li>\n\t<li>3.425</li>\n\t<li>3.775</li>\n\t<li>3.4</li>\n\t<li>2.9</li>\n\t<li>3.45</li>\n\t<li>3.525</li>\n\t<li>3.525</li>\n\t<li>3.675</li>\n\t<li>2.925</li>\n\t<li>3.475</li>\n\t<li>4.525</li>\n\t<li>3.875</li>\n\t<li>4.525</li>\n\t<li>4.15</li>\n\t<li>4.375</li>\n\t<li>4.825</li>\n\t<li>3.4</li>\n\t<li>4.575</li>\n\t<li>4.2</li>\n\t<li>4.85</li>\n\t<li>4.2</li>\n\t<li>4.075</li>\n\t<li>4.35</li>\n\t<li>3.8</li>\n\t<li>4.025</li>\n\t<li>4.3</li>\n\t<li>4.2</li>\n\t<li>5.1</li>\n\t<li>4.875</li>\n\t<li>3.675</li>\n\t<li>4.525</li>\n\t<li>3.825</li>\n\t<li>4.8</li>\n\t<li>3.925</li>\n\t<li>4.45</li>\n\t<li>4.55</li>\n\t<li>3.9</li>\n\t<li>3.95</li>\n\t<li>4.225</li>\n\t<li>4.4</li>\n\t<li>4.55</li>\n\t<li>5.025</li>\n\t<li>4.25</li>\n\t<li>3.925</li>\n\t<li>3.925</li>\n\t<li>4.775</li>\n\t<li>4.425</li>\n\t<li>4.2</li>\n\t<li>3.9</li>\n\t<li>4.375</li>\n\t<li>4.45</li>\n\t<li>4.35</li>\n\t<li>3.875</li>\n\t<li>4.55</li>\n\t<li>4.55</li>\n\t<li>4.3</li>\n\t<li>3.925</li>\n\t<li>4.175</li>\n\t<li>4.325</li>\n\t<li>3.95</li>\n</ol>\n"
          },
          "metadata": {}
        }
      ]
    },
    {
      "metadata": {
        "trusted": true
      },
      "cell_type": "code",
      "source": "colMeans(irismd)",
      "execution_count": 4,
      "outputs": [
        {
          "output_type": "display_data",
          "data": {
            "text/plain": "Sepal.Length  Sepal.Width Petal.Length  Petal.Width \n    5.843333     3.057333     3.758000     1.199333 ",
            "text/latex": "\\begin{description*}\n\\item[Sepal.Length] 5.84333333333333\n\\item[Sepal.Width] 3.05733333333333\n\\item[Petal.Length] 3.758\n\\item[Petal.Width] 1.19933333333333\n\\end{description*}\n",
            "text/markdown": "Sepal.Length\n:   5.84333333333333Sepal.Width\n:   3.05733333333333Petal.Length\n:   3.758Petal.Width\n:   1.19933333333333\n\n",
            "text/html": "<dl class=dl-horizontal>\n\t<dt>Sepal.Length</dt>\n\t\t<dd>5.84333333333333</dd>\n\t<dt>Sepal.Width</dt>\n\t\t<dd>3.05733333333333</dd>\n\t<dt>Petal.Length</dt>\n\t\t<dd>3.758</dd>\n\t<dt>Petal.Width</dt>\n\t\t<dd>1.19933333333333</dd>\n</dl>\n"
          },
          "metadata": {}
        }
      ]
    },
    {
      "metadata": {
        "trusted": true
      },
      "cell_type": "markdown",
      "source": "### Exercise 7\nCreamos la funcion Totalmeansiris, donde usamos la funcion ***c*** para combinar los valores obtenidos en el ejercicio anterior:"
    },
    {
      "metadata": {
        "trusted": true
      },
      "cell_type": "code",
      "source": "Totalmeaniris <- function() {\n    irismd<-iris[1:4]\n    resul<-c(rowMeans(irismd),colMeans(irismd))\n    resul\n}\nTotalmeaniris()",
      "execution_count": 1,
      "outputs": [
        {
          "output_type": "display_data",
          "data": {
            "text/plain": "                                                                              \n    2.550000     2.375000     2.350000     2.350000     2.550000     2.850000 \n                                                                              \n    2.425000     2.525000     2.225000     2.400000     2.700000     2.500000 \n                                                                              \n    2.325000     2.125000     2.800000     3.000000     2.750000     2.575000 \n                                                                              \n    2.875000     2.675000     2.675000     2.675000     2.350000     2.650000 \n                                                                              \n    2.575000     2.450000     2.600000     2.600000     2.550000     2.425000 \n                                                                              \n    2.425000     2.675000     2.725000     2.825000     2.425000     2.400000 \n                                                                              \n    2.625000     2.500000     2.225000     2.550000     2.525000     2.100000 \n                                                                              \n    2.275000     2.675000     2.800000     2.375000     2.675000     2.350000 \n                                                                              \n    2.675000     2.475000     4.075000     3.900000     4.100000     3.275000 \n                                                                              \n    3.850000     3.575000     3.975000     2.900000     3.850000     3.300000 \n                                                                              \n    2.875000     3.650000     3.300000     3.775000     3.350000     3.900000 \n                                                                              \n    3.650000     3.400000     3.600000     3.275000     3.925000     3.550000 \n                                                                              \n    3.800000     3.700000     3.725000     3.850000     3.950000     4.100000 \n                                                                              \n    3.725000     3.200000     3.200000     3.150000     3.400000     3.850000 \n                                                                              \n    3.600000     3.875000     4.000000     3.575000     3.500000     3.325000 \n                                                                              \n    3.425000     3.775000     3.400000     2.900000     3.450000     3.525000 \n                                                                              \n    3.525000     3.675000     2.925000     3.475000     4.525000     3.875000 \n                                                                              \n    4.525000     4.150000     4.375000     4.825000     3.400000     4.575000 \n                                                                              \n    4.200000     4.850000     4.200000     4.075000     4.350000     3.800000 \n                                                                              \n    4.025000     4.300000     4.200000     5.100000     4.875000     3.675000 \n                                                                              \n    4.525000     3.825000     4.800000     3.925000     4.450000     4.550000 \n                                                                              \n    3.900000     3.950000     4.225000     4.400000     4.550000     5.025000 \n                                                                              \n    4.250000     3.925000     3.925000     4.775000     4.425000     4.200000 \n                                                                              \n    3.900000     4.375000     4.450000     4.350000     3.875000     4.550000 \n                                                                              \n    4.550000     4.300000     3.925000     4.175000     4.325000     3.950000 \nSepal.Length  Sepal.Width Petal.Length  Petal.Width \n    5.843333     3.057333     3.758000     1.199333 ",
            "text/latex": "\\begin{description*}\n\\item[1] 2.55\n\\item[2] 2.375\n\\item[3] 2.35\n\\item[4] 2.35\n\\item[5] 2.55\n\\item[6] 2.85\n\\item[7] 2.425\n\\item[8] 2.525\n\\item[9] 2.225\n\\item[10] 2.4\n\\item[11] 2.7\n\\item[12] 2.5\n\\item[13] 2.325\n\\item[14] 2.125\n\\item[15] 2.8\n\\item[16] 3\n\\item[17] 2.75\n\\item[18] 2.575\n\\item[19] 2.875\n\\item[20] 2.675\n\\item[21] 2.675\n\\item[22] 2.675\n\\item[23] 2.35\n\\item[24] 2.65\n\\item[25] 2.575\n\\item[26] 2.45\n\\item[27] 2.6\n\\item[28] 2.6\n\\item[29] 2.55\n\\item[30] 2.425\n\\item[31] 2.425\n\\item[32] 2.675\n\\item[33] 2.725\n\\item[34] 2.825\n\\item[35] 2.425\n\\item[36] 2.4\n\\item[37] 2.625\n\\item[38] 2.5\n\\item[39] 2.225\n\\item[40] 2.55\n\\item[41] 2.525\n\\item[42] 2.1\n\\item[43] 2.275\n\\item[44] 2.675\n\\item[45] 2.8\n\\item[46] 2.375\n\\item[47] 2.675\n\\item[48] 2.35\n\\item[49] 2.675\n\\item[50] 2.475\n\\item[51] 4.075\n\\item[52] 3.9\n\\item[53] 4.1\n\\item[54] 3.275\n\\item[55] 3.85\n\\item[56] 3.575\n\\item[57] 3.975\n\\item[58] 2.9\n\\item[59] 3.85\n\\item[60] 3.3\n\\item[61] 2.875\n\\item[62] 3.65\n\\item[63] 3.3\n\\item[64] 3.775\n\\item[65] 3.35\n\\item[66] 3.9\n\\item[67] 3.65\n\\item[68] 3.4\n\\item[69] 3.6\n\\item[70] 3.275\n\\item[71] 3.925\n\\item[72] 3.55\n\\item[73] 3.8\n\\item[74] 3.7\n\\item[75] 3.725\n\\item[76] 3.85\n\\item[77] 3.95\n\\item[78] 4.1\n\\item[79] 3.725\n\\item[80] 3.2\n\\item[81] 3.2\n\\item[82] 3.15\n\\item[83] 3.4\n\\item[84] 3.85\n\\item[85] 3.6\n\\item[86] 3.875\n\\item[87] 4\n\\item[88] 3.575\n\\item[89] 3.5\n\\item[90] 3.325\n\\item[91] 3.425\n\\item[92] 3.775\n\\item[93] 3.4\n\\item[94] 2.9\n\\item[95] 3.45\n\\item[96] 3.525\n\\item[97] 3.525\n\\item[98] 3.675\n\\item[99] 2.925\n\\item[100] 3.475\n\\item[101] 4.525\n\\item[102] 3.875\n\\item[103] 4.525\n\\item[104] 4.15\n\\item[105] 4.375\n\\item[106] 4.825\n\\item[107] 3.4\n\\item[108] 4.575\n\\item[109] 4.2\n\\item[110] 4.85\n\\item[111] 4.2\n\\item[112] 4.075\n\\item[113] 4.35\n\\item[114] 3.8\n\\item[115] 4.025\n\\item[116] 4.3\n\\item[117] 4.2\n\\item[118] 5.1\n\\item[119] 4.875\n\\item[120] 3.675\n\\item[121] 4.525\n\\item[122] 3.825\n\\item[123] 4.8\n\\item[124] 3.925\n\\item[125] 4.45\n\\item[126] 4.55\n\\item[127] 3.9\n\\item[128] 3.95\n\\item[129] 4.225\n\\item[130] 4.4\n\\item[131] 4.55\n\\item[132] 5.025\n\\item[133] 4.25\n\\item[134] 3.925\n\\item[135] 3.925\n\\item[136] 4.775\n\\item[137] 4.425\n\\item[138] 4.2\n\\item[139] 3.9\n\\item[140] 4.375\n\\item[141] 4.45\n\\item[142] 4.35\n\\item[143] 3.875\n\\item[144] 4.55\n\\item[145] 4.55\n\\item[146] 4.3\n\\item[147] 3.925\n\\item[148] 4.175\n\\item[149] 4.325\n\\item[150] 3.95\n\\item[Sepal.Length] 5.84333333333333\n\\item[Sepal.Width] 3.05733333333333\n\\item[Petal.Length] 3.758\n\\item[Petal.Width] 1.19933333333333\n\\end{description*}\n",
            "text/markdown": "1\n:   2.552\n:   2.3753\n:   2.354\n:   2.355\n:   2.556\n:   2.857\n:   2.4258\n:   2.5259\n:   2.22510\n:   2.411\n:   2.712\n:   2.513\n:   2.32514\n:   2.12515\n:   2.816\n:   317\n:   2.7518\n:   2.57519\n:   2.87520\n:   2.67521\n:   2.67522\n:   2.67523\n:   2.3524\n:   2.6525\n:   2.57526\n:   2.4527\n:   2.628\n:   2.629\n:   2.5530\n:   2.42531\n:   2.42532\n:   2.67533\n:   2.72534\n:   2.82535\n:   2.42536\n:   2.437\n:   2.62538\n:   2.539\n:   2.22540\n:   2.5541\n:   2.52542\n:   2.143\n:   2.27544\n:   2.67545\n:   2.846\n:   2.37547\n:   2.67548\n:   2.3549\n:   2.67550\n:   2.47551\n:   4.07552\n:   3.953\n:   4.154\n:   3.27555\n:   3.8556\n:   3.57557\n:   3.97558\n:   2.959\n:   3.8560\n:   3.361\n:   2.87562\n:   3.6563\n:   3.364\n:   3.77565\n:   3.3566\n:   3.967\n:   3.6568\n:   3.469\n:   3.670\n:   3.27571\n:   3.92572\n:   3.5573\n:   3.874\n:   3.775\n:   3.72576\n:   3.8577\n:   3.9578\n:   4.179\n:   3.72580\n:   3.281\n:   3.282\n:   3.1583\n:   3.484\n:   3.8585\n:   3.686\n:   3.87587\n:   488\n:   3.57589\n:   3.590\n:   3.32591\n:   3.42592\n:   3.77593\n:   3.494\n:   2.995\n:   3.4596\n:   3.52597\n:   3.52598\n:   3.67599\n:   2.925100\n:   3.475101\n:   4.525102\n:   3.875103\n:   4.525104\n:   4.15105\n:   4.375106\n:   4.825107\n:   3.4108\n:   4.575109\n:   4.2110\n:   4.85111\n:   4.2112\n:   4.075113\n:   4.35114\n:   3.8115\n:   4.025116\n:   4.3117\n:   4.2118\n:   5.1119\n:   4.875120\n:   3.675121\n:   4.525122\n:   3.825123\n:   4.8124\n:   3.925125\n:   4.45126\n:   4.55127\n:   3.9128\n:   3.95129\n:   4.225130\n:   4.4131\n:   4.55132\n:   5.025133\n:   4.25134\n:   3.925135\n:   3.925136\n:   4.775137\n:   4.425138\n:   4.2139\n:   3.9140\n:   4.375141\n:   4.45142\n:   4.35143\n:   3.875144\n:   4.55145\n:   4.55146\n:   4.3147\n:   3.925148\n:   4.175149\n:   4.325150\n:   3.95Sepal.Length\n:   5.84333333333333Sepal.Width\n:   3.05733333333333Petal.Length\n:   3.758Petal.Width\n:   1.19933333333333\n\n",
            "text/html": "<dl class=dl-horizontal>\n\t<dt>1</dt>\n\t\t<dd>2.55</dd>\n\t<dt>2</dt>\n\t\t<dd>2.375</dd>\n\t<dt>3</dt>\n\t\t<dd>2.35</dd>\n\t<dt>4</dt>\n\t\t<dd>2.35</dd>\n\t<dt>5</dt>\n\t\t<dd>2.55</dd>\n\t<dt>6</dt>\n\t\t<dd>2.85</dd>\n\t<dt>7</dt>\n\t\t<dd>2.425</dd>\n\t<dt>8</dt>\n\t\t<dd>2.525</dd>\n\t<dt>9</dt>\n\t\t<dd>2.225</dd>\n\t<dt>10</dt>\n\t\t<dd>2.4</dd>\n\t<dt>11</dt>\n\t\t<dd>2.7</dd>\n\t<dt>12</dt>\n\t\t<dd>2.5</dd>\n\t<dt>13</dt>\n\t\t<dd>2.325</dd>\n\t<dt>14</dt>\n\t\t<dd>2.125</dd>\n\t<dt>15</dt>\n\t\t<dd>2.8</dd>\n\t<dt>16</dt>\n\t\t<dd>3</dd>\n\t<dt>17</dt>\n\t\t<dd>2.75</dd>\n\t<dt>18</dt>\n\t\t<dd>2.575</dd>\n\t<dt>19</dt>\n\t\t<dd>2.875</dd>\n\t<dt>20</dt>\n\t\t<dd>2.675</dd>\n\t<dt>21</dt>\n\t\t<dd>2.675</dd>\n\t<dt>22</dt>\n\t\t<dd>2.675</dd>\n\t<dt>23</dt>\n\t\t<dd>2.35</dd>\n\t<dt>24</dt>\n\t\t<dd>2.65</dd>\n\t<dt>25</dt>\n\t\t<dd>2.575</dd>\n\t<dt>26</dt>\n\t\t<dd>2.45</dd>\n\t<dt>27</dt>\n\t\t<dd>2.6</dd>\n\t<dt>28</dt>\n\t\t<dd>2.6</dd>\n\t<dt>29</dt>\n\t\t<dd>2.55</dd>\n\t<dt>30</dt>\n\t\t<dd>2.425</dd>\n\t<dt>31</dt>\n\t\t<dd>2.425</dd>\n\t<dt>32</dt>\n\t\t<dd>2.675</dd>\n\t<dt>33</dt>\n\t\t<dd>2.725</dd>\n\t<dt>34</dt>\n\t\t<dd>2.825</dd>\n\t<dt>35</dt>\n\t\t<dd>2.425</dd>\n\t<dt>36</dt>\n\t\t<dd>2.4</dd>\n\t<dt>37</dt>\n\t\t<dd>2.625</dd>\n\t<dt>38</dt>\n\t\t<dd>2.5</dd>\n\t<dt>39</dt>\n\t\t<dd>2.225</dd>\n\t<dt>40</dt>\n\t\t<dd>2.55</dd>\n\t<dt>41</dt>\n\t\t<dd>2.525</dd>\n\t<dt>42</dt>\n\t\t<dd>2.1</dd>\n\t<dt>43</dt>\n\t\t<dd>2.275</dd>\n\t<dt>44</dt>\n\t\t<dd>2.675</dd>\n\t<dt>45</dt>\n\t\t<dd>2.8</dd>\n\t<dt>46</dt>\n\t\t<dd>2.375</dd>\n\t<dt>47</dt>\n\t\t<dd>2.675</dd>\n\t<dt>48</dt>\n\t\t<dd>2.35</dd>\n\t<dt>49</dt>\n\t\t<dd>2.675</dd>\n\t<dt>50</dt>\n\t\t<dd>2.475</dd>\n\t<dt>51</dt>\n\t\t<dd>4.075</dd>\n\t<dt>52</dt>\n\t\t<dd>3.9</dd>\n\t<dt>53</dt>\n\t\t<dd>4.1</dd>\n\t<dt>54</dt>\n\t\t<dd>3.275</dd>\n\t<dt>55</dt>\n\t\t<dd>3.85</dd>\n\t<dt>56</dt>\n\t\t<dd>3.575</dd>\n\t<dt>57</dt>\n\t\t<dd>3.975</dd>\n\t<dt>58</dt>\n\t\t<dd>2.9</dd>\n\t<dt>59</dt>\n\t\t<dd>3.85</dd>\n\t<dt>60</dt>\n\t\t<dd>3.3</dd>\n\t<dt>61</dt>\n\t\t<dd>2.875</dd>\n\t<dt>62</dt>\n\t\t<dd>3.65</dd>\n\t<dt>63</dt>\n\t\t<dd>3.3</dd>\n\t<dt>64</dt>\n\t\t<dd>3.775</dd>\n\t<dt>65</dt>\n\t\t<dd>3.35</dd>\n\t<dt>66</dt>\n\t\t<dd>3.9</dd>\n\t<dt>67</dt>\n\t\t<dd>3.65</dd>\n\t<dt>68</dt>\n\t\t<dd>3.4</dd>\n\t<dt>69</dt>\n\t\t<dd>3.6</dd>\n\t<dt>70</dt>\n\t\t<dd>3.275</dd>\n\t<dt>71</dt>\n\t\t<dd>3.925</dd>\n\t<dt>72</dt>\n\t\t<dd>3.55</dd>\n\t<dt>73</dt>\n\t\t<dd>3.8</dd>\n\t<dt>74</dt>\n\t\t<dd>3.7</dd>\n\t<dt>75</dt>\n\t\t<dd>3.725</dd>\n\t<dt>76</dt>\n\t\t<dd>3.85</dd>\n\t<dt>77</dt>\n\t\t<dd>3.95</dd>\n\t<dt>78</dt>\n\t\t<dd>4.1</dd>\n\t<dt>79</dt>\n\t\t<dd>3.725</dd>\n\t<dt>80</dt>\n\t\t<dd>3.2</dd>\n\t<dt>81</dt>\n\t\t<dd>3.2</dd>\n\t<dt>82</dt>\n\t\t<dd>3.15</dd>\n\t<dt>83</dt>\n\t\t<dd>3.4</dd>\n\t<dt>84</dt>\n\t\t<dd>3.85</dd>\n\t<dt>85</dt>\n\t\t<dd>3.6</dd>\n\t<dt>86</dt>\n\t\t<dd>3.875</dd>\n\t<dt>87</dt>\n\t\t<dd>4</dd>\n\t<dt>88</dt>\n\t\t<dd>3.575</dd>\n\t<dt>89</dt>\n\t\t<dd>3.5</dd>\n\t<dt>90</dt>\n\t\t<dd>3.325</dd>\n\t<dt>91</dt>\n\t\t<dd>3.425</dd>\n\t<dt>92</dt>\n\t\t<dd>3.775</dd>\n\t<dt>93</dt>\n\t\t<dd>3.4</dd>\n\t<dt>94</dt>\n\t\t<dd>2.9</dd>\n\t<dt>95</dt>\n\t\t<dd>3.45</dd>\n\t<dt>96</dt>\n\t\t<dd>3.525</dd>\n\t<dt>97</dt>\n\t\t<dd>3.525</dd>\n\t<dt>98</dt>\n\t\t<dd>3.675</dd>\n\t<dt>99</dt>\n\t\t<dd>2.925</dd>\n\t<dt>100</dt>\n\t\t<dd>3.475</dd>\n\t<dt>101</dt>\n\t\t<dd>4.525</dd>\n\t<dt>102</dt>\n\t\t<dd>3.875</dd>\n\t<dt>103</dt>\n\t\t<dd>4.525</dd>\n\t<dt>104</dt>\n\t\t<dd>4.15</dd>\n\t<dt>105</dt>\n\t\t<dd>4.375</dd>\n\t<dt>106</dt>\n\t\t<dd>4.825</dd>\n\t<dt>107</dt>\n\t\t<dd>3.4</dd>\n\t<dt>108</dt>\n\t\t<dd>4.575</dd>\n\t<dt>109</dt>\n\t\t<dd>4.2</dd>\n\t<dt>110</dt>\n\t\t<dd>4.85</dd>\n\t<dt>111</dt>\n\t\t<dd>4.2</dd>\n\t<dt>112</dt>\n\t\t<dd>4.075</dd>\n\t<dt>113</dt>\n\t\t<dd>4.35</dd>\n\t<dt>114</dt>\n\t\t<dd>3.8</dd>\n\t<dt>115</dt>\n\t\t<dd>4.025</dd>\n\t<dt>116</dt>\n\t\t<dd>4.3</dd>\n\t<dt>117</dt>\n\t\t<dd>4.2</dd>\n\t<dt>118</dt>\n\t\t<dd>5.1</dd>\n\t<dt>119</dt>\n\t\t<dd>4.875</dd>\n\t<dt>120</dt>\n\t\t<dd>3.675</dd>\n\t<dt>121</dt>\n\t\t<dd>4.525</dd>\n\t<dt>122</dt>\n\t\t<dd>3.825</dd>\n\t<dt>123</dt>\n\t\t<dd>4.8</dd>\n\t<dt>124</dt>\n\t\t<dd>3.925</dd>\n\t<dt>125</dt>\n\t\t<dd>4.45</dd>\n\t<dt>126</dt>\n\t\t<dd>4.55</dd>\n\t<dt>127</dt>\n\t\t<dd>3.9</dd>\n\t<dt>128</dt>\n\t\t<dd>3.95</dd>\n\t<dt>129</dt>\n\t\t<dd>4.225</dd>\n\t<dt>130</dt>\n\t\t<dd>4.4</dd>\n\t<dt>131</dt>\n\t\t<dd>4.55</dd>\n\t<dt>132</dt>\n\t\t<dd>5.025</dd>\n\t<dt>133</dt>\n\t\t<dd>4.25</dd>\n\t<dt>134</dt>\n\t\t<dd>3.925</dd>\n\t<dt>135</dt>\n\t\t<dd>3.925</dd>\n\t<dt>136</dt>\n\t\t<dd>4.775</dd>\n\t<dt>137</dt>\n\t\t<dd>4.425</dd>\n\t<dt>138</dt>\n\t\t<dd>4.2</dd>\n\t<dt>139</dt>\n\t\t<dd>3.9</dd>\n\t<dt>140</dt>\n\t\t<dd>4.375</dd>\n\t<dt>141</dt>\n\t\t<dd>4.45</dd>\n\t<dt>142</dt>\n\t\t<dd>4.35</dd>\n\t<dt>143</dt>\n\t\t<dd>3.875</dd>\n\t<dt>144</dt>\n\t\t<dd>4.55</dd>\n\t<dt>145</dt>\n\t\t<dd>4.55</dd>\n\t<dt>146</dt>\n\t\t<dd>4.3</dd>\n\t<dt>147</dt>\n\t\t<dd>3.925</dd>\n\t<dt>148</dt>\n\t\t<dd>4.175</dd>\n\t<dt>149</dt>\n\t\t<dd>4.325</dd>\n\t<dt>150</dt>\n\t\t<dd>3.95</dd>\n\t<dt>Sepal.Length</dt>\n\t\t<dd>5.84333333333333</dd>\n\t<dt>Sepal.Width</dt>\n\t\t<dd>3.05733333333333</dd>\n\t<dt>Petal.Length</dt>\n\t\t<dd>3.758</dd>\n\t<dt>Petal.Width</dt>\n\t\t<dd>1.19933333333333</dd>\n</dl>\n"
          },
          "metadata": {}
        }
      ]
    },
    {
      "metadata": {},
      "cell_type": "markdown",
      "source": "### Ejercicio 8\nCreamos la funcion iterativa ***fibo*** que nos calcula los *N* pasos de Fibonacci:"
    },
    {
      "metadata": {
        "trusted": true
      },
      "cell_type": "code",
      "source": "fibo <- function(N) {\n    #Primero validamos que el valor N sea mayor que 0\n    if(N>0){\n        #Luego condicionamos los 2 primeros pasos que son constantes\n        if(N==1)\n            res<-c(1)\n        else if(N==2)\n            res<-c(1,1)\n        else if(N>=3){\n            #Aqui ya iteramos la funcion para calcular los pasos mayores a 2\n            N=N-1\n            temp<-fibo(N)\n            val=temp[N]+temp[N-1]\n            res=c(temp,val)\n        }\n        res\n    }\n    else{\n        print(\"DATO INGRESADO ERRONEO\")\n    }\n}\nfibo(10)",
      "execution_count": 48,
      "outputs": [
        {
          "output_type": "display_data",
          "data": {
            "text/plain": " [1]  1  1  2  3  5  8 13 21 34 55",
            "text/latex": "\\begin{enumerate*}\n\\item 1\n\\item 1\n\\item 2\n\\item 3\n\\item 5\n\\item 8\n\\item 13\n\\item 21\n\\item 34\n\\item 55\n\\end{enumerate*}\n",
            "text/markdown": "1. 1\n2. 1\n3. 2\n4. 3\n5. 5\n6. 8\n7. 13\n8. 21\n9. 34\n10. 55\n\n\n",
            "text/html": "<ol class=list-inline>\n\t<li>1</li>\n\t<li>1</li>\n\t<li>2</li>\n\t<li>3</li>\n\t<li>5</li>\n\t<li>8</li>\n\t<li>13</li>\n\t<li>21</li>\n\t<li>34</li>\n\t<li>55</li>\n</ol>\n"
          },
          "metadata": {}
        }
      ]
    },
    {
      "metadata": {},
      "cell_type": "markdown",
      "source": "### Exercise 9\nEl dataset elegido del BCN OpenData fue extraido de este [link](https://opendata-ajuntament.barcelona.cat/data/es/dataset/est-padro-domicilis-nacionalitat-espanyola-estrangera). Con que procedemos a su carga y visualizacion de sus 3 primeros registros:"
    },
    {
      "metadata": {
        "trusted": true
      },
      "cell_type": "code",
      "source": "espext <- read.table(\"2019_domicilis_nacionalitat_espanyola_estrangera.csv\", header = TRUE, sep=\",\")\nespext[1:3,]",
      "execution_count": 52,
      "outputs": [
        {
          "output_type": "display_data",
          "data": {
            "text/plain": "  Any  Codi_districte Nom_districte Codi_barri Nom_barri      Nacionalitat\n1 2019 1              Ciutat Vella  1          el Raval       Cap espanyol\n2 2019 1              Ciutat Vella  2          el Barri Gòtic Cap espanyol\n3 2019 1              Ciutat Vella  3          la Barceloneta Cap espanyol\n  Nombre\n1 5604  \n2 2336  \n3 2130  ",
            "text/latex": "A data.frame: 3 x 7\n\\begin{tabular}{r|lllllll}\n Any & Codi\\_districte & Nom\\_districte & Codi\\_barri & Nom\\_barri & Nacionalitat & Nombre\\\\\n <int> & <int> & <fct> & <int> & <fct> & <fct> & <int>\\\\\n\\hline\n\t 2019 & 1 & Ciutat Vella & 1 & el Raval       & Cap espanyol & 5604\\\\\n\t 2019 & 1 & Ciutat Vella & 2 & el Barri Gòtic & Cap espanyol & 2336\\\\\n\t 2019 & 1 & Ciutat Vella & 3 & la Barceloneta & Cap espanyol & 2130\\\\\n\\end{tabular}\n",
            "text/markdown": "\nA data.frame: 3 x 7\n\n| Any &lt;int&gt; | Codi_districte &lt;int&gt; | Nom_districte &lt;fct&gt; | Codi_barri &lt;int&gt; | Nom_barri &lt;fct&gt; | Nacionalitat &lt;fct&gt; | Nombre &lt;int&gt; |\n|---|---|---|---|---|---|---|\n| 2019 | 1 | Ciutat Vella | 1 | el Raval       | Cap espanyol | 5604 |\n| 2019 | 1 | Ciutat Vella | 2 | el Barri Gòtic | Cap espanyol | 2336 |\n| 2019 | 1 | Ciutat Vella | 3 | la Barceloneta | Cap espanyol | 2130 |\n\n",
            "text/html": "<table>\n<caption>A data.frame: 3 x 7</caption>\n<thead>\n\t<tr><th scope=col>Any</th><th scope=col>Codi_districte</th><th scope=col>Nom_districte</th><th scope=col>Codi_barri</th><th scope=col>Nom_barri</th><th scope=col>Nacionalitat</th><th scope=col>Nombre</th></tr>\n\t<tr><th scope=col>&lt;int&gt;</th><th scope=col>&lt;int&gt;</th><th scope=col>&lt;fct&gt;</th><th scope=col>&lt;int&gt;</th><th scope=col>&lt;fct&gt;</th><th scope=col>&lt;fct&gt;</th><th scope=col>&lt;int&gt;</th></tr>\n</thead>\n<tbody>\n\t<tr><td>2019</td><td>1</td><td>Ciutat Vella</td><td>1</td><td>el Raval      </td><td>Cap espanyol</td><td>5604</td></tr>\n\t<tr><td>2019</td><td>1</td><td>Ciutat Vella</td><td>2</td><td>el Barri Gòtic</td><td>Cap espanyol</td><td>2336</td></tr>\n\t<tr><td>2019</td><td>1</td><td>Ciutat Vella</td><td>3</td><td>la Barceloneta</td><td>Cap espanyol</td><td>2130</td></tr>\n</tbody>\n</table>\n"
          },
          "metadata": {}
        },
        {
          "output_type": "stream",
          "text": "'data.frame':\t730 obs. of  7 variables:\n $ Any           : int  2019 2019 2019 2019 2019 2019 2019 2019 2019 2019 ...\n $ Codi_districte: int  1 1 1 1 2 2 2 2 2 2 ...\n $ Nom_districte : Factor w/ 10 levels \"Ciutat Vella\",..: 1 1 1 1 2 2 2 2 2 2 ...\n $ Codi_barri    : int  1 2 3 4 5 6 7 8 9 10 ...\n $ Nom_barri     : Factor w/ 73 levels \"Baró de Viver\",..: 23 8 28 64 17 40 31 27 38 59 ...\n $ Nacionalitat  : Factor w/ 10 levels \"1 espanyol\",\"1 estranger\",..: 9 9 9 9 9 9 9 9 9 9 ...\n $ Nombre        : int  5604 2336 2130 3291 1696 2684 3131 2662 2768 2017 ...\n",
          "name": "stdout"
        }
      ]
    }
  ],
  "metadata": {
    "kernelspec": {
      "name": "r",
      "display_name": "R",
      "language": "R"
    },
    "language_info": {
      "mimetype": "text/x-r-source",
      "name": "R",
      "pygments_lexer": "r",
      "version": "3.5.3",
      "file_extension": ".r",
      "codemirror_mode": "r"
    }
  },
  "nbformat": 4,
  "nbformat_minor": 2
}