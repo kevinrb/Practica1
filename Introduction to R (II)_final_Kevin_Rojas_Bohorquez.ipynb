{
  "cells": [
    {
      "metadata": {},
      "cell_type": "markdown",
      "source": "## Student: Kevin Rojas Bohorquez\n\n### Exercise 1\nCargamos el dataset ***Choices.csv*** y visualizamos las primeras lineas:"
    },
    {
      "metadata": {
        "trusted": true
      },
      "cell_type": "code",
      "source": "choices <- read.table(\"Choices.csv\", header = TRUE, sep=\";\")\nchoices[1:3,]",
      "execution_count": 4,
      "outputs": [
        {
          "output_type": "display_data",
          "data": {
            "text/plain": "  ID COUNTRY CHOICE_ID INFO MEASURE\n1 1  6       1         A    IV     \n2 2  2       1         A    IV     \n3 3  2       1         A    IV     ",
            "text/latex": "A data.frame: 3 x 5\n\\begin{tabular}{r|lllll}\n ID & COUNTRY & CHOICE\\_ID & INFO & MEASURE\\\\\n <int> & <int> & <int> & <fct> & <fct>\\\\\n\\hline\n\t 1 & 6 & 1 & A & IV\\\\\n\t 2 & 2 & 1 & A & IV\\\\\n\t 3 & 2 & 1 & A & IV\\\\\n\\end{tabular}\n",
            "text/markdown": "\nA data.frame: 3 x 5\n\n| ID &lt;int&gt; | COUNTRY &lt;int&gt; | CHOICE_ID &lt;int&gt; | INFO &lt;fct&gt; | MEASURE &lt;fct&gt; |\n|---|---|---|---|---|\n| 1 | 6 | 1 | A | IV |\n| 2 | 2 | 1 | A | IV |\n| 3 | 2 | 1 | A | IV |\n\n",
            "text/html": "<table>\n<caption>A data.frame: 3 x 5</caption>\n<thead>\n\t<tr><th scope=col>ID</th><th scope=col>COUNTRY</th><th scope=col>CHOICE_ID</th><th scope=col>INFO</th><th scope=col>MEASURE</th></tr>\n\t<tr><th scope=col>&lt;int&gt;</th><th scope=col>&lt;int&gt;</th><th scope=col>&lt;int&gt;</th><th scope=col>&lt;fct&gt;</th><th scope=col>&lt;fct&gt;</th></tr>\n</thead>\n<tbody>\n\t<tr><td>1</td><td>6</td><td>1</td><td>A</td><td>IV</td></tr>\n\t<tr><td>2</td><td>2</td><td>1</td><td>A</td><td>IV</td></tr>\n\t<tr><td>3</td><td>2</td><td>1</td><td>A</td><td>IV</td></tr>\n</tbody>\n</table>\n"
          },
          "metadata": {}
        }
      ]
    },
    {
      "metadata": {},
      "cell_type": "markdown",
      "source": "Para ver la dimensionalidad usamos la funcion ***dim***:"
    },
    {
      "metadata": {
        "trusted": true,
        "scrolled": true
      },
      "cell_type": "code",
      "source": "dim(choices)",
      "execution_count": 18,
      "outputs": [
        {
          "output_type": "display_data",
          "data": {
            "text/plain": "[1] 36000     5",
            "text/latex": "\\begin{enumerate*}\n\\item 36000\n\\item 5\n\\end{enumerate*}\n",
            "text/markdown": "1. 36000\n2. 5\n\n\n",
            "text/html": "<ol class=list-inline>\n\t<li>36000</li>\n\t<li>5</li>\n</ol>\n"
          },
          "metadata": {}
        }
      ]
    },
    {
      "metadata": {},
      "cell_type": "markdown",
      "source": "Para saber los nombres de las variables usamos la funcion ***names***:"
    },
    {
      "metadata": {
        "trusted": true
      },
      "cell_type": "code",
      "source": "names(choices)",
      "execution_count": 19,
      "outputs": [
        {
          "output_type": "display_data",
          "data": {
            "text/plain": "[1] \"ID\"        \"COUNTRY\"   \"CHOICE_ID\" \"INFO\"      \"MEASURE\"  ",
            "text/latex": "\\begin{enumerate*}\n\\item 'ID'\n\\item 'COUNTRY'\n\\item 'CHOICE\\_ID'\n\\item 'INFO'\n\\item 'MEASURE'\n\\end{enumerate*}\n",
            "text/markdown": "1. 'ID'\n2. 'COUNTRY'\n3. 'CHOICE_ID'\n4. 'INFO'\n5. 'MEASURE'\n\n\n",
            "text/html": "<ol class=list-inline>\n\t<li>'ID'</li>\n\t<li>'COUNTRY'</li>\n\t<li>'CHOICE_ID'</li>\n\t<li>'INFO'</li>\n\t<li>'MEASURE'</li>\n</ol>\n"
          },
          "metadata": {}
        }
      ]
    },
    {
      "metadata": {},
      "cell_type": "markdown",
      "source": "Y para saber las clases usamos la funcion ***sapply*** con la funcion ***class***:"
    },
    {
      "metadata": {
        "trusted": true
      },
      "cell_type": "code",
      "source": "sapply(choices,class)",
      "execution_count": 22,
      "outputs": [
        {
          "output_type": "display_data",
          "data": {
            "text/plain": "       ID   COUNTRY CHOICE_ID      INFO   MEASURE \n\"integer\" \"integer\" \"integer\"  \"factor\"  \"factor\" ",
            "text/latex": "\\begin{description*}\n\\item[ID] 'integer'\n\\item[COUNTRY] 'integer'\n\\item[CHOICE\\textbackslash{}\\_ID] 'integer'\n\\item[INFO] 'factor'\n\\item[MEASURE] 'factor'\n\\end{description*}\n",
            "text/markdown": "ID\n:   'integer'COUNTRY\n:   'integer'CHOICE_ID\n:   'integer'INFO\n:   'factor'MEASURE\n:   'factor'\n\n",
            "text/html": "<dl class=dl-horizontal>\n\t<dt>ID</dt>\n\t\t<dd>'integer'</dd>\n\t<dt>COUNTRY</dt>\n\t\t<dd>'integer'</dd>\n\t<dt>CHOICE_ID</dt>\n\t\t<dd>'integer'</dd>\n\t<dt>INFO</dt>\n\t\t<dd>'factor'</dd>\n\t<dt>MEASURE</dt>\n\t\t<dd>'factor'</dd>\n</dl>\n"
          },
          "metadata": {}
        }
      ]
    },
    {
      "metadata": {},
      "cell_type": "markdown",
      "source": "Una mejor forma de ver todo lo requirido es usando la funcion ***str***:"
    },
    {
      "metadata": {
        "trusted": true
      },
      "cell_type": "code",
      "source": "str(choices)",
      "execution_count": 26,
      "outputs": [
        {
          "output_type": "stream",
          "text": "'data.frame':\t36000 obs. of  5 variables:\n $ ID       : int  1 2 3 4 5 6 7 8 9 10 ...\n $ COUNTRY  : int  6 2 2 2 2 2 2 2 2 2 ...\n $ CHOICE_ID: int  1 1 1 1 1 2 2 1 1 1 ...\n $ INFO     : Factor w/ 4 levels \"A\",\"B\",\"C\",\"D\": 1 1 1 1 1 2 2 1 1 1 ...\n $ MEASURE  : Factor w/ 5 levels \"I\",\"II\",\"III\",..: 4 4 4 4 4 3 3 4 4 4 ...\n",
          "name": "stdout"
        }
      ]
    },
    {
      "metadata": {},
      "cell_type": "markdown",
      "source": "Y otra forma, pero con datos estadisticos, es la funcion ***describe*** y se requiere cargas la libreria ***psych***:"
    },
    {
      "metadata": {
        "trusted": true
      },
      "cell_type": "code",
      "source": "library(psych)\ndescribe(choices)",
      "execution_count": 27,
      "outputs": [
        {
          "output_type": "display_data",
          "data": {
            "text/plain": "          vars n     mean        sd           median trimmed     mad       min\nID        1    36000 1800.500000 1039.2448785 1800.5 1800.500000 1334.3400 1  \nCOUNTRY   2    36000    3.500000    1.7078488    3.5    3.500000    2.2239 1  \nCHOICE_ID 3    36000    1.412472    0.4922861    1.0    1.390590    0.0000 1  \nINFO*     4    36000    2.362667    1.0581974    2.0    2.328333    1.4826 1  \nMEASURE*  5    36000    2.931667    1.3610224    3.0    2.914583    1.4826 1  \n          max  range skew       kurtosis  se         \nID        3600 3599  0.00000000 -1.200100 5.477301438\nCOUNTRY      6    5  0.00000000 -1.268668 0.009001154\nCHOICE_ID    2    1  0.35558730 -1.873610 0.002594576\nINFO*        4    3  0.11548512 -1.219865 0.005577190\nMEASURE*     5    4  0.08787589 -1.258404 0.007173218",
            "text/latex": "A psych: 5 x 13\n\\begin{tabular}{r|lllllllllllll}\n  & vars & n & mean & sd & median & trimmed & mad & min & max & range & skew & kurtosis & se\\\\\n  & <int> & <dbl> & <dbl> & <dbl> & <dbl> & <dbl> & <dbl> & <dbl> & <dbl> & <dbl> & <dbl> & <dbl> & <dbl>\\\\\n\\hline\n\tID & 1 & 36000 & 1800.500000 & 1039.2448785 & 1800.5 & 1800.500000 & 1334.3400 & 1 & 3600 & 3599 & 0.00000000 & -1.200100 & 5.477301438\\\\\n\tCOUNTRY & 2 & 36000 &    3.500000 &    1.7078488 &    3.5 &    3.500000 &    2.2239 & 1 &    6 &    5 & 0.00000000 & -1.268668 & 0.009001154\\\\\n\tCHOICE\\_ID & 3 & 36000 &    1.412472 &    0.4922861 &    1.0 &    1.390590 &    0.0000 & 1 &    2 &    1 & 0.35558730 & -1.873610 & 0.002594576\\\\\n\tINFO* & 4 & 36000 &    2.362667 &    1.0581974 &    2.0 &    2.328333 &    1.4826 & 1 &    4 &    3 & 0.11548512 & -1.219865 & 0.005577190\\\\\n\tMEASURE* & 5 & 36000 &    2.931667 &    1.3610224 &    3.0 &    2.914583 &    1.4826 & 1 &    5 &    4 & 0.08787589 & -1.258404 & 0.007173218\\\\\n\\end{tabular}\n",
            "text/markdown": "\nA psych: 5 x 13\n\n| <!--/--> | vars &lt;int&gt; | n &lt;dbl&gt; | mean &lt;dbl&gt; | sd &lt;dbl&gt; | median &lt;dbl&gt; | trimmed &lt;dbl&gt; | mad &lt;dbl&gt; | min &lt;dbl&gt; | max &lt;dbl&gt; | range &lt;dbl&gt; | skew &lt;dbl&gt; | kurtosis &lt;dbl&gt; | se &lt;dbl&gt; |\n|---|---|---|---|---|---|---|---|---|---|---|---|---|---|\n| ID | 1 | 36000 | 1800.500000 | 1039.2448785 | 1800.5 | 1800.500000 | 1334.3400 | 1 | 3600 | 3599 | 0.00000000 | -1.200100 | 5.477301438 |\n| COUNTRY | 2 | 36000 |    3.500000 |    1.7078488 |    3.5 |    3.500000 |    2.2239 | 1 |    6 |    5 | 0.00000000 | -1.268668 | 0.009001154 |\n| CHOICE_ID | 3 | 36000 |    1.412472 |    0.4922861 |    1.0 |    1.390590 |    0.0000 | 1 |    2 |    1 | 0.35558730 | -1.873610 | 0.002594576 |\n| INFO* | 4 | 36000 |    2.362667 |    1.0581974 |    2.0 |    2.328333 |    1.4826 | 1 |    4 |    3 | 0.11548512 | -1.219865 | 0.005577190 |\n| MEASURE* | 5 | 36000 |    2.931667 |    1.3610224 |    3.0 |    2.914583 |    1.4826 | 1 |    5 |    4 | 0.08787589 | -1.258404 | 0.007173218 |\n\n",
            "text/html": "<table>\n<caption>A psych: 5 x 13</caption>\n<thead>\n\t<tr><th></th><th scope=col>vars</th><th scope=col>n</th><th scope=col>mean</th><th scope=col>sd</th><th scope=col>median</th><th scope=col>trimmed</th><th scope=col>mad</th><th scope=col>min</th><th scope=col>max</th><th scope=col>range</th><th scope=col>skew</th><th scope=col>kurtosis</th><th scope=col>se</th></tr>\n\t<tr><th></th><th scope=col>&lt;int&gt;</th><th scope=col>&lt;dbl&gt;</th><th scope=col>&lt;dbl&gt;</th><th scope=col>&lt;dbl&gt;</th><th scope=col>&lt;dbl&gt;</th><th scope=col>&lt;dbl&gt;</th><th scope=col>&lt;dbl&gt;</th><th scope=col>&lt;dbl&gt;</th><th scope=col>&lt;dbl&gt;</th><th scope=col>&lt;dbl&gt;</th><th scope=col>&lt;dbl&gt;</th><th scope=col>&lt;dbl&gt;</th><th scope=col>&lt;dbl&gt;</th></tr>\n</thead>\n<tbody>\n\t<tr><th scope=row>ID</th><td>1</td><td>36000</td><td>1800.500000</td><td>1039.2448785</td><td>1800.5</td><td>1800.500000</td><td>1334.3400</td><td>1</td><td>3600</td><td>3599</td><td>0.00000000</td><td>-1.200100</td><td>5.477301438</td></tr>\n\t<tr><th scope=row>COUNTRY</th><td>2</td><td>36000</td><td>   3.500000</td><td>   1.7078488</td><td>   3.5</td><td>   3.500000</td><td>   2.2239</td><td>1</td><td>   6</td><td>   5</td><td>0.00000000</td><td>-1.268668</td><td>0.009001154</td></tr>\n\t<tr><th scope=row>CHOICE_ID</th><td>3</td><td>36000</td><td>   1.412472</td><td>   0.4922861</td><td>   1.0</td><td>   1.390590</td><td>   0.0000</td><td>1</td><td>   2</td><td>   1</td><td>0.35558730</td><td>-1.873610</td><td>0.002594576</td></tr>\n\t<tr><th scope=row>INFO*</th><td>4</td><td>36000</td><td>   2.362667</td><td>   1.0581974</td><td>   2.0</td><td>   2.328333</td><td>   1.4826</td><td>1</td><td>   4</td><td>   3</td><td>0.11548512</td><td>-1.219865</td><td>0.005577190</td></tr>\n\t<tr><th scope=row>MEASURE*</th><td>5</td><td>36000</td><td>   2.931667</td><td>   1.3610224</td><td>   3.0</td><td>   2.914583</td><td>   1.4826</td><td>1</td><td>   5</td><td>   4</td><td>0.08787589</td><td>-1.258404</td><td>0.007173218</td></tr>\n</tbody>\n</table>\n"
          },
          "metadata": {}
        }
      ]
    },
    {
      "metadata": {},
      "cell_type": "markdown",
      "source": "### Exercise 2\nCreamos la tabla de contingencia ***conTableIM*** con la funcion ***table***:"
    },
    {
      "metadata": {
        "trusted": true
      },
      "cell_type": "code",
      "source": "levels(choices$INFO)\nlevels(choices$MEASURE)\nconTableIM<-table(choices$INFO,choices$MEASURE)\nconTableIM",
      "execution_count": 35,
      "outputs": [
        {
          "output_type": "display_data",
          "data": {
            "text/plain": "[1] \"A\" \"B\" \"C\" \"D\"",
            "text/latex": "\\begin{enumerate*}\n\\item 'A'\n\\item 'B'\n\\item 'C'\n\\item 'D'\n\\end{enumerate*}\n",
            "text/markdown": "1. 'A'\n2. 'B'\n3. 'C'\n4. 'D'\n\n\n",
            "text/html": "<ol class=list-inline>\n\t<li>'A'</li>\n\t<li>'B'</li>\n\t<li>'C'</li>\n\t<li>'D'</li>\n</ol>\n"
          },
          "metadata": {}
        },
        {
          "output_type": "display_data",
          "data": {
            "text/plain": "[1] \"I\"   \"II\"  \"III\" \"IV\"  \"V\"  ",
            "text/latex": "\\begin{enumerate*}\n\\item 'I'\n\\item 'II'\n\\item 'III'\n\\item 'IV'\n\\item 'V'\n\\end{enumerate*}\n",
            "text/markdown": "1. 'I'\n2. 'II'\n3. 'III'\n4. 'IV'\n5. 'V'\n\n\n",
            "text/html": "<ol class=list-inline>\n\t<li>'I'</li>\n\t<li>'II'</li>\n\t<li>'III'</li>\n\t<li>'IV'</li>\n\t<li>'V'</li>\n</ol>\n"
          },
          "metadata": {}
        },
        {
          "output_type": "display_data",
          "data": {
            "text/plain": "   \n       I   II  III   IV    V\n  A 1892 2625 1708 2115 1414\n  B 1360 2669 1485 2240 1923\n  C 1677 2186 2093 2745 1627\n  D 1507 1973  855  975  931"
          },
          "metadata": {}
        }
      ]
    },
    {
      "metadata": {},
      "cell_type": "markdown",
      "source": "### Exercise 3\nObtenemos la distribucion de frecuencias marginales con la funcion ***addmargins***:"
    },
    {
      "metadata": {
        "trusted": true
      },
      "cell_type": "code",
      "source": "addmargins(conTableIM)",
      "execution_count": 38,
      "outputs": [
        {
          "output_type": "display_data",
          "data": {
            "text/plain": "     \n      I    II   III  IV   V    Sum  \n  A   1892 2625 1708 2115 1414  9754\n  B   1360 2669 1485 2240 1923  9677\n  C   1677 2186 2093 2745 1627 10328\n  D   1507 1973  855  975  931  6241\n  Sum 6436 9453 6141 8075 5895 36000",
            "text/latex": "A table: 5 x 6 of type dbl\n\\begin{tabular}{r|llllll}\n  & I & II & III & IV & V & Sum\\\\\n\\hline\n\tA & 1892 & 2625 & 1708 & 2115 & 1414 &  9754\\\\\n\tB & 1360 & 2669 & 1485 & 2240 & 1923 &  9677\\\\\n\tC & 1677 & 2186 & 2093 & 2745 & 1627 & 10328\\\\\n\tD & 1507 & 1973 &  855 &  975 &  931 &  6241\\\\\n\tSum & 6436 & 9453 & 6141 & 8075 & 5895 & 36000\\\\\n\\end{tabular}\n",
            "text/markdown": "\nA table: 5 x 6 of type dbl\n\n| <!--/--> | I | II | III | IV | V | Sum |\n|---|---|---|---|---|---|---|\n| A | 1892 | 2625 | 1708 | 2115 | 1414 |  9754 |\n| B | 1360 | 2669 | 1485 | 2240 | 1923 |  9677 |\n| C | 1677 | 2186 | 2093 | 2745 | 1627 | 10328 |\n| D | 1507 | 1973 |  855 |  975 |  931 |  6241 |\n| Sum | 6436 | 9453 | 6141 | 8075 | 5895 | 36000 |\n\n",
            "text/html": "<table>\n<caption>A table: 5 x 6 of type dbl</caption>\n<thead>\n\t<tr><th></th><th scope=col>I</th><th scope=col>II</th><th scope=col>III</th><th scope=col>IV</th><th scope=col>V</th><th scope=col>Sum</th></tr>\n</thead>\n<tbody>\n\t<tr><th scope=row>A</th><td>1892</td><td>2625</td><td>1708</td><td>2115</td><td>1414</td><td> 9754</td></tr>\n\t<tr><th scope=row>B</th><td>1360</td><td>2669</td><td>1485</td><td>2240</td><td>1923</td><td> 9677</td></tr>\n\t<tr><th scope=row>C</th><td>1677</td><td>2186</td><td>2093</td><td>2745</td><td>1627</td><td>10328</td></tr>\n\t<tr><th scope=row>D</th><td>1507</td><td>1973</td><td> 855</td><td> 975</td><td> 931</td><td> 6241</td></tr>\n\t<tr><th scope=row>Sum</th><td>6436</td><td>9453</td><td>6141</td><td>8075</td><td>5895</td><td>36000</td></tr>\n</tbody>\n</table>\n"
          },
          "metadata": {}
        }
      ]
    },
    {
      "metadata": {},
      "cell_type": "markdown",
      "source": "### Exercise 4\nUsamos la funcion ***summary*** para obtener detalles de la tabla de la contigencia:"
    },
    {
      "metadata": {
        "trusted": true
      },
      "cell_type": "code",
      "source": "summary(conTableIM)",
      "execution_count": 42,
      "outputs": [
        {
          "output_type": "display_data",
          "data": {
            "text/plain": "Number of cases in table: 36000 \nNumber of factors: 2 \nTest for independence of all factors:\n\tChisq = 860.7, df = 12, p-value = 1.602e-176"
          },
          "metadata": {}
        }
      ]
    },
    {
      "metadata": {},
      "cell_type": "markdown",
      "source": "Como observamos tenemos un Chi cuadrado alto(***Chisq = 860.7***) y p-value despreciable (***p-value = 1.602e-176***), lo que indica que la hipotesis que la variable *INFO* y la variable *MEASURE* sean independientes es casi nula. Por ende las variables son dependientes. "
    }
  ],
  "metadata": {
    "kernelspec": {
      "name": "r",
      "display_name": "R",
      "language": "R"
    },
    "language_info": {
      "mimetype": "text/x-r-source",
      "name": "R",
      "pygments_lexer": "r",
      "version": "3.5.3",
      "file_extension": ".r",
      "codemirror_mode": "r"
    }
  },
  "nbformat": 4,
  "nbformat_minor": 1
}